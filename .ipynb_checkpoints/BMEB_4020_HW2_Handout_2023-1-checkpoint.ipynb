{
 "cells": [
  {
   "cell_type": "markdown",
   "metadata": {},
   "source": [
    "## BMEB W4020: Circuits in the Brain 2022 Fall Homework #2\n",
    "\n",
    "Author: [Shashwat Shukla](shashwat.shukla@columbia.edu), [Bruce Yi Bu](yb2520@columbia.edu)\n",
    "\n",
    "Based on Previous Work by: Tingkai Liu, Mehmet Kerem Turkcan, Chung-Heng Yeh, Konstantinos Psychas, Teng Yang, Cong Han\n",
    "\n",
    "Copyright 2022 Shashwat Shukla, Tingkai Liu, Bruce Yi Bu, and Aurel A. Lazar"
   ]
  },
  {
   "cell_type": "markdown",
   "metadata": {},
   "source": [
    "### Names and UNIs\n",
    "(Please include the names and UNIs of all team members here; **double click** on **markdown** blocks to edit)"
   ]
  },
  {
   "cell_type": "markdown",
   "metadata": {},
   "source": [
    "## Problem 1: PRC of Hodgkin-Huxley Model\n",
    "In this problem, you are asked to do the following:\n",
    "\n",
    "1. Implement Winfree's method for approximating the Phase Response Curve (PRC) for Voltage of the Hodgkin-Huxley Model, which is called the `HodgkinHuxley` model in the `compneuro` package. Use simple words to describe the procedures and your method (via #comments). \n",
    "2. Generate spike train with HH neuron and the I/O equivalent project-integrate-and-fire (PIF) neuron when the input is [$I_{ext}(t)$](#note-on-I-ext). Use simple words to describe your implementation of PIF (via #comments). \n",
    "3. Evaluate the mean $\\mu$ and standard deviation $\\sigma$ of the difference between the corresponding spike times of the HH neuron and the equivalent PIF neuron for bandlimited stimulus described by [equation](#input) scaled to have maximum amplitude $c > 0$ (i.e. $\\max_{t}|u(t)| = c$). Plot these statistics as a function of $c$ across values of $c$. \n",
    "    - **Note 1**: You should generate new inputs $u(t)$ (with different random coefficients) to ensure that the error statistics are not biased by the form of the input stimulus. \n",
    "    - **Note 2**: The value of $c$ should not be so large that the limit cycle of the HH model collapses to singularity. It would be instructive to look at F-I curve of the HH model first to find a range of input current values that gives periodic spiking (this was explored in the last homework).\n",
    "\n",
    "#### Note on $I_{ext} = I + u(t)$ <a name=\"note-on-I-ext\"></a>\n",
    "Starting this homework, the injected current $I_{ext}$ will have the form $I+u(t)$, where $I$ refers to _injected current_ and $u(t)$ is the _stimulus_. In particular:\n",
    "\n",
    "\n",
    "1. $I$: injected (bias) current is a _constant_ value for all time that is injected to the neuron model. You can consider this value as the _average_/DC value of the input $I_{ext}$. Since this value is not time-varying, it contains _no information_ (in the sense of entropy). For this reason, we don't refer to $I$ as _stimulus_. However, the bias $I$ will change the shape of the limit cycle $\\Gamma$ (or the periodic solution ${\\bf x}^0$) of the neuron model, where the higher the bias current $I$, the smaller the limit cycle and the faster the neuron oscillates. For this reason, we can consider the dynamic of the neuron model to be _parametrized_ / _indexed_ by the bias $I$.\n",
    "\n",
    "2. $u(t)$: this is a time-varying signal that has information content. If we consider $I$ as the DC value of $I_{ext}$, then $u(t)$ will be a zero-mean signal that corresponds to local perturbation of the neuron dynamic around the limit cycle $\\Gamma$. This is the input signal that we seeks to decode from the neuron spike times.\n",
    "\n",
    "### Input Stimulus $u(t)$ - Complex Exponential <a name=\"input\"></a>\n",
    "The input stimulus here is a zero-DC valued complex exponential of order $M=5$ on support $t\\in[0, 200]$ ms with bandwidth $\\Omega = 2\\pi \\cdot 20 \\quad [rad\\cdot s^-1]$,\n",
    "$$\n",
    "u(t)= \\sum^{M}_{m=-M}a_{m} \\exp\\left(j\\frac{m\\Omega t}{M}\\right)\n",
    "$$\n",
    "\n",
    "Note that for stimulus $u(t)$ to be real-valued signal, the coefficients $a_m$ need to be conjugate-symmetric. In another word, $a_m = \\overline{a_{-m}} = Re(a_{-m}) - j Im(a_{-m})$, \n",
    "where $Re(\\cdot), Im(\\cdot)$ are the _real_ and _imaginary_ parts of the complex number respectively. The stimulus $u(t)$ should be zero-DC valued, which means that $a_0 = 0$. This input stimulus $u(t)$ is additively coupled to a periodically spiking HH neuron."
   ]
  },
  {
   "cell_type": "markdown",
   "metadata": {},
   "source": [
    "## Problem 2: Synaptic Input and PRC\n",
    "\n",
    "In the previous problem we explored how perturbations (in particular, the stimulus $u(t)$) can change the spike times of a periodically firing neuron. \n",
    "In this problem we explore how presynaptic voltage spikes are chemically transduced by synapses into transient neurotransmitter concentrations, and how this impacts postsynaptic spike times and relates to PRC. \n",
    "\n",
    "For this problem, we treat the synaptic current $I_{syn}$ as a perturbation to the total current $I_{ext} = I + I_{syn}$, where $I$ is the injected current.\n",
    "\n",
    "1. Simulate a postsynaptic `HodgkinHuxley` neuron with $I=20$ pA (while omitting $I_{syn}$), plot the periodic spike train ($V_{post}$) along with the corresponding stable limit cycle. Note the timing of the spikes.\n",
    "2. We assume that the neurotransmitter release $[NT]$ at a synapse, due to the presynaptic neuron firing at time $t_k$, can be approximated as a dirac delta spike $[NT]_{max} \\cdot \\mathbf{1}_{t_k}$; where $[NT]_{max}$ = 250 and is the maximum Neurotransmitter concentration.  \n",
    "Referencing the PRC you obtained from Problem 1, generate and plot neurotransmitter concentration $[NT]$ for (clearly label your plots):  \n",
    "   1. $t_k = \\mathrm{argmax}(PRC)$ (time corresponding to the maximal phase response) \n",
    "   2. $t_k = \\mathrm{argmin}(PRC)$ (time corresponding to the minimal phase response) \n",
    "\n",
    "\n",
    "   \n",
    "3. Considering the synaptic current as $u(t)$ to the postsynaptic neuron, simulate an AMPA synapse with the above $[NT]$ inputs, along with the postsynaptic neuron voltage $V_{post}$. Recall that $I_{syn}(t)= g_{syn}(t) \\cdot (V_{post}(t)-E_{rev})$.  \n",
    "Plot the following as functions of time:\n",
    "    1. Synaptic Conductance\n",
    "    2. Synaptic Current \n",
    "    3. Postsynaptic Neuron Voltage\n",
    "\n",
    "\n",
    "4. Overlay the resulting postsynaptic neuron voltage $V_{post}$ and limit cycle on the plots from Problem *2.1* to show the phase shift due to the injection of synpatic current. Clearly label the traces with an appropriate legend.\n",
    "5. Repeat steps 3 and 4 with a GABA_A synapse. \n",
    "6. Comment on how the different synapses and the timing of presynaptic input affect the behaviour of the postsynaptic neuron. \n",
    "\n",
    "**For your own exploration (not graded)**:\n",
    "Repeat steps 2 to 4 (only AMPA) with the following $[NT]=[NT]_{max} \\cdot \\mathbf{1}_{t_k}$ where $t_k = [\\space \\mathrm{argmax}(PRC),\\space \\mathrm{argmin}(PRC) \\space]$.\n",
    "Is is the behaviour of the postsynaptic neuron as expected (in terms of phase)? Explain your observations and comment on how you would expect the postsynaptic voltage to evolve with an increasing number of presynaptic spikes?\n",
    "\n",
    "\n",
    "**Note**: By convention, synaptic current $I_{syn}$ has negative value because it denotes _inward_ current to the neuron. Therefore, to use simulation kernels (including `hodgkin_huxley`), the input current $I_{ext}$ will be $I_{ext} = -I_{syn}$. \n",
    "\n",
    "**Note**: Use the AMPA, GABA_A synapse models as defined in the `compneuro` package.  \n",
    "\n"
   ]
  },
  {
   "cell_type": "markdown",
   "metadata": {},
   "source": [
    "# Before you start...\n",
    "### The code skeleton \n",
    "* we provide a skeleton of the code for HW2, you will find helper functions as well as headers of functions that need to be completed (look for \"**TO DO**\" comments and markdowns)\n",
    "* note that you are not required to follow this sequence; the skeleton is just provided for convenience but we highly recommend using it, and you are feel to modify or add custom functions\n",
    "\n",
    "### Miscellaneous (attention)\n",
    "* please remember to include your name in the corresponding field at the start of this notebook, otherwize an automatic 0 grade will be received for any missing member\n",
    "* please clearly present your solutions and answers with proper use of plots, markdown and comments\n",
    "* please start the assignment as soon as possible, submission deadlines are strictly followed and late submissions after we posted the solution (ususlaly on the same day as the deadline) will receive automatic 0\n",
    "* please email both TAs at least 48hrs ahead of deadline if you cannot submit an assignment on time (due to exam schedules or  overwhelming deadlines, etc), we are flexible as long as we are informed\n",
    "* please post your questions on Ed Discussions, and attend the office hours (every Thursday evening); **more on Ed**:\n",
    "    * while discussing on Ed, please make good use of the reply and comment features inside threads to avoid cluttering with multiple threads regarding the same question from the same user\n",
    "    * please refrain from asking questions or posting threads that would explicitly share the right answer with everyone\n",
    "    * only post code snipets when you have narrowed down the issue to that particular section and only share ploted results only when you have good reason to suspect their correctness\n",
    "    * once you finish debugging your code by the end of a thread, please avoid languages such as \"is this correct now?\" since we aren't really allowed to explicitly say yes when they are; be confident in your hardwork."
   ]
  },
  {
   "cell_type": "markdown",
   "metadata": {},
   "source": []
  },
  {
   "cell_type": "markdown",
   "metadata": {},
   "source": [
    "## Setup"
   ]
  },
  {
   "cell_type": "code",
   "execution_count": 35,
   "metadata": {},
   "outputs": [],
   "source": [
    "# Import libraries\n",
    "%matplotlib inline\n",
    "import numpy as np\n",
    "import matplotlib.pyplot as plt\n",
    "from tqdm.notebook import tqdm\n",
    "\n",
    "from compneuro.neurons.hodgkin_huxley import HodgkinHuxley\n",
    "from compneuro.utils.signal import spike_detect\n",
    "\n",
    "np.random.seed(0)  # fix random seed\n",
    "plt.rcParams[\"figure.figsize\"] = [10, 5]\n",
    "plt.rcParams[\"figure.dpi\"] = 80"
   ]
  },
  {
   "cell_type": "code",
   "execution_count": 41,
   "metadata": {},
   "outputs": [
    {
     "data": {
      "text/html": [
       "<style>\n",
       "        .bk-notebook-logo {\n",
       "            display: block;\n",
       "            width: 20px;\n",
       "            height: 20px;\n",
       "            background-image: url(data:image/png;base64,iVBORw0KGgoAAAANSUhEUgAAABQAAAAUCAYAAACNiR0NAAAABHNCSVQICAgIfAhkiAAAAAlwSFlzAAALEgAACxIB0t1+/AAAABx0RVh0U29mdHdhcmUAQWRvYmUgRmlyZXdvcmtzIENTNui8sowAAAOkSURBVDiNjZRtaJVlGMd/1/08zzln5zjP1LWcU9N0NkN8m2CYjpgQYQXqSs0I84OLIC0hkEKoPtiH3gmKoiJDU7QpLgoLjLIQCpEsNJ1vqUOdO7ppbuec5+V+rj4ctwzd8IIbbi6u+8f1539dt3A78eXC7QizUF7gyV1fD1Yqg4JWz84yffhm0qkFqBogB9rM8tZdtwVsPUhWhGcFJngGeWrPzHm5oaMmkfEg1usvLFyc8jLRqDOMru7AyC8saQr7GG7f5fvDeH7Ej8CM66nIF+8yngt6HWaKh7k49Soy9nXurCi1o3qUbS3zWfrYeQDTB/Qj6kX6Ybhw4B+bOYoLKCC9H3Nu/leUTZ1JdRWkkn2ldcCamzrcf47KKXdAJllSlxAOkRgyHsGC/zRday5Qld9DyoM4/q/rUoy/CXh3jzOu3bHUVZeU+DEn8FInkPBFlu3+nW3Nw0mk6vCDiWg8CeJaxEwuHS3+z5RgY+YBR6V1Z1nxSOfoaPa4LASWxxdNp+VWTk7+4vzaou8v8PN+xo+KY2xsw6une2frhw05CTYOmQvsEhjhWjn0bmXPjpE1+kplmmkP3suftwTubK9Vq22qKmrBhpY4jvd5afdRA3wGjFAgcnTK2s4hY0/GPNIb0nErGMCRxWOOX64Z8RAC4oCXdklmEvcL8o0BfkNK4lUg9HTl+oPlQxdNo3Mg4Nv175e/1LDGzZen30MEjRUtmXSfiTVu1kK8W4txyV6BMKlbgk3lMwYCiusNy9fVfvvwMxv8Ynl6vxoByANLTWplvuj/nF9m2+PDtt1eiHPBr1oIfhCChQMBw6Aw0UulqTKZdfVvfG7VcfIqLG9bcldL/+pdWTLxLUy8Qq38heUIjh4XlzZxzQm19lLFlr8vdQ97rjZVOLf8nclzckbcD4wxXMidpX30sFd37Fv/GtwwhzhxGVAprjbg0gCAEeIgwCZyTV2Z1REEW8O4py0wsjeloKoMr6iCY6dP92H6Vw/oTyICIthibxjm/DfN9lVz8IqtqKYLUXfoKVMVQVVJOElGjrnnUt9T9wbgp8AyYKaGlqingHZU/uG2NTZSVqwHQTWkx9hxjkpWDaCg6Ckj5qebgBVbT3V3NNXMSiWSDdGV3hrtzla7J+duwPOToIg42ChPQOQjspnSlp1V+Gjdged7+8UN5CRAV7a5EdFNwCjEaBR27b3W890TE7g24NAP/mMDXRWrGoFPQI9ls/MWO2dWFAar/xcOIImbbpA3zgAAAABJRU5ErkJggg==);\n",
       "        }\n",
       "    </style>\n",
       "    <div>\n",
       "        <a href=\"https://bokeh.org\" target=\"_blank\" class=\"bk-notebook-logo\"></a>\n",
       "        <span id=\"bb9f9a7d-7a2b-4e71-a8ed-420a265e1fdb\">Loading BokehJS ...</span>\n",
       "    </div>\n"
      ]
     },
     "metadata": {},
     "output_type": "display_data"
    },
    {
     "data": {
      "application/javascript": [
       "(function(root) {\n",
       "  function now() {\n",
       "    return new Date();\n",
       "  }\n",
       "\n",
       "  const force = true;\n",
       "\n",
       "  if (typeof root._bokeh_onload_callbacks === \"undefined\" || force === true) {\n",
       "    root._bokeh_onload_callbacks = [];\n",
       "    root._bokeh_is_loading = undefined;\n",
       "  }\n",
       "\n",
       "const JS_MIME_TYPE = 'application/javascript';\n",
       "  const HTML_MIME_TYPE = 'text/html';\n",
       "  const EXEC_MIME_TYPE = 'application/vnd.bokehjs_exec.v0+json';\n",
       "  const CLASS_NAME = 'output_bokeh rendered_html';\n",
       "\n",
       "  /**\n",
       "   * Render data to the DOM node\n",
       "   */\n",
       "  function render(props, node) {\n",
       "    const script = document.createElement(\"script\");\n",
       "    node.appendChild(script);\n",
       "  }\n",
       "\n",
       "  /**\n",
       "   * Handle when an output is cleared or removed\n",
       "   */\n",
       "  function handleClearOutput(event, handle) {\n",
       "    const cell = handle.cell;\n",
       "\n",
       "    const id = cell.output_area._bokeh_element_id;\n",
       "    const server_id = cell.output_area._bokeh_server_id;\n",
       "    // Clean up Bokeh references\n",
       "    if (id != null && id in Bokeh.index) {\n",
       "      Bokeh.index[id].model.document.clear();\n",
       "      delete Bokeh.index[id];\n",
       "    }\n",
       "\n",
       "    if (server_id !== undefined) {\n",
       "      // Clean up Bokeh references\n",
       "      const cmd_clean = \"from bokeh.io.state import curstate; print(curstate().uuid_to_server['\" + server_id + \"'].get_sessions()[0].document.roots[0]._id)\";\n",
       "      cell.notebook.kernel.execute(cmd_clean, {\n",
       "        iopub: {\n",
       "          output: function(msg) {\n",
       "            const id = msg.content.text.trim();\n",
       "            if (id in Bokeh.index) {\n",
       "              Bokeh.index[id].model.document.clear();\n",
       "              delete Bokeh.index[id];\n",
       "            }\n",
       "          }\n",
       "        }\n",
       "      });\n",
       "      // Destroy server and session\n",
       "      const cmd_destroy = \"import bokeh.io.notebook as ion; ion.destroy_server('\" + server_id + \"')\";\n",
       "      cell.notebook.kernel.execute(cmd_destroy);\n",
       "    }\n",
       "  }\n",
       "\n",
       "  /**\n",
       "   * Handle when a new output is added\n",
       "   */\n",
       "  function handleAddOutput(event, handle) {\n",
       "    const output_area = handle.output_area;\n",
       "    const output = handle.output;\n",
       "\n",
       "    // limit handleAddOutput to display_data with EXEC_MIME_TYPE content only\n",
       "    if ((output.output_type != \"display_data\") || (!Object.prototype.hasOwnProperty.call(output.data, EXEC_MIME_TYPE))) {\n",
       "      return\n",
       "    }\n",
       "\n",
       "    const toinsert = output_area.element.find(\".\" + CLASS_NAME.split(' ')[0]);\n",
       "\n",
       "    if (output.metadata[EXEC_MIME_TYPE][\"id\"] !== undefined) {\n",
       "      toinsert[toinsert.length - 1].firstChild.textContent = output.data[JS_MIME_TYPE];\n",
       "      // store reference to embed id on output_area\n",
       "      output_area._bokeh_element_id = output.metadata[EXEC_MIME_TYPE][\"id\"];\n",
       "    }\n",
       "    if (output.metadata[EXEC_MIME_TYPE][\"server_id\"] !== undefined) {\n",
       "      const bk_div = document.createElement(\"div\");\n",
       "      bk_div.innerHTML = output.data[HTML_MIME_TYPE];\n",
       "      const script_attrs = bk_div.children[0].attributes;\n",
       "      for (let i = 0; i < script_attrs.length; i++) {\n",
       "        toinsert[toinsert.length - 1].firstChild.setAttribute(script_attrs[i].name, script_attrs[i].value);\n",
       "        toinsert[toinsert.length - 1].firstChild.textContent = bk_div.children[0].textContent\n",
       "      }\n",
       "      // store reference to server id on output_area\n",
       "      output_area._bokeh_server_id = output.metadata[EXEC_MIME_TYPE][\"server_id\"];\n",
       "    }\n",
       "  }\n",
       "\n",
       "  function register_renderer(events, OutputArea) {\n",
       "\n",
       "    function append_mime(data, metadata, element) {\n",
       "      // create a DOM node to render to\n",
       "      const toinsert = this.create_output_subarea(\n",
       "        metadata,\n",
       "        CLASS_NAME,\n",
       "        EXEC_MIME_TYPE\n",
       "      );\n",
       "      this.keyboard_manager.register_events(toinsert);\n",
       "      // Render to node\n",
       "      const props = {data: data, metadata: metadata[EXEC_MIME_TYPE]};\n",
       "      render(props, toinsert[toinsert.length - 1]);\n",
       "      element.append(toinsert);\n",
       "      return toinsert\n",
       "    }\n",
       "\n",
       "    /* Handle when an output is cleared or removed */\n",
       "    events.on('clear_output.CodeCell', handleClearOutput);\n",
       "    events.on('delete.Cell', handleClearOutput);\n",
       "\n",
       "    /* Handle when a new output is added */\n",
       "    events.on('output_added.OutputArea', handleAddOutput);\n",
       "\n",
       "    /**\n",
       "     * Register the mime type and append_mime function with output_area\n",
       "     */\n",
       "    OutputArea.prototype.register_mime_type(EXEC_MIME_TYPE, append_mime, {\n",
       "      /* Is output safe? */\n",
       "      safe: true,\n",
       "      /* Index of renderer in `output_area.display_order` */\n",
       "      index: 0\n",
       "    });\n",
       "  }\n",
       "\n",
       "  // register the mime type if in Jupyter Notebook environment and previously unregistered\n",
       "  if (root.Jupyter !== undefined) {\n",
       "    const events = require('base/js/events');\n",
       "    const OutputArea = require('notebook/js/outputarea').OutputArea;\n",
       "\n",
       "    if (OutputArea.prototype.mime_types().indexOf(EXEC_MIME_TYPE) == -1) {\n",
       "      register_renderer(events, OutputArea);\n",
       "    }\n",
       "  }\n",
       "  if (typeof (root._bokeh_timeout) === \"undefined\" || force === true) {\n",
       "    root._bokeh_timeout = Date.now() + 5000;\n",
       "    root._bokeh_failed_load = false;\n",
       "  }\n",
       "\n",
       "  const NB_LOAD_WARNING = {'data': {'text/html':\n",
       "     \"<div style='background-color: #fdd'>\\n\"+\n",
       "     \"<p>\\n\"+\n",
       "     \"BokehJS does not appear to have successfully loaded. If loading BokehJS from CDN, this \\n\"+\n",
       "     \"may be due to a slow or bad network connection. Possible fixes:\\n\"+\n",
       "     \"</p>\\n\"+\n",
       "     \"<ul>\\n\"+\n",
       "     \"<li>re-rerun `output_notebook()` to attempt to load from CDN again, or</li>\\n\"+\n",
       "     \"<li>use INLINE resources instead, as so:</li>\\n\"+\n",
       "     \"</ul>\\n\"+\n",
       "     \"<code>\\n\"+\n",
       "     \"from bokeh.resources import INLINE\\n\"+\n",
       "     \"output_notebook(resources=INLINE)\\n\"+\n",
       "     \"</code>\\n\"+\n",
       "     \"</div>\"}};\n",
       "\n",
       "  function display_loaded() {\n",
       "    const el = document.getElementById(\"bb9f9a7d-7a2b-4e71-a8ed-420a265e1fdb\");\n",
       "    if (el != null) {\n",
       "      el.textContent = \"BokehJS is loading...\";\n",
       "    }\n",
       "    if (root.Bokeh !== undefined) {\n",
       "      if (el != null) {\n",
       "        el.textContent = \"BokehJS \" + root.Bokeh.version + \" successfully loaded.\";\n",
       "      }\n",
       "    } else if (Date.now() < root._bokeh_timeout) {\n",
       "      setTimeout(display_loaded, 100)\n",
       "    }\n",
       "  }\n",
       "\n",
       "  function run_callbacks() {\n",
       "    try {\n",
       "      root._bokeh_onload_callbacks.forEach(function(callback) {\n",
       "        if (callback != null)\n",
       "          callback();\n",
       "      });\n",
       "    } finally {\n",
       "      delete root._bokeh_onload_callbacks\n",
       "    }\n",
       "    console.debug(\"Bokeh: all callbacks have finished\");\n",
       "  }\n",
       "\n",
       "  function load_libs(css_urls, js_urls, callback) {\n",
       "    if (css_urls == null) css_urls = [];\n",
       "    if (js_urls == null) js_urls = [];\n",
       "\n",
       "    root._bokeh_onload_callbacks.push(callback);\n",
       "    if (root._bokeh_is_loading > 0) {\n",
       "      console.debug(\"Bokeh: BokehJS is being loaded, scheduling callback at\", now());\n",
       "      return null;\n",
       "    }\n",
       "    if (js_urls == null || js_urls.length === 0) {\n",
       "      run_callbacks();\n",
       "      return null;\n",
       "    }\n",
       "    console.debug(\"Bokeh: BokehJS not loaded, scheduling load and callback at\", now());\n",
       "    root._bokeh_is_loading = css_urls.length + js_urls.length;\n",
       "\n",
       "    function on_load() {\n",
       "      root._bokeh_is_loading--;\n",
       "      if (root._bokeh_is_loading === 0) {\n",
       "        console.debug(\"Bokeh: all BokehJS libraries/stylesheets loaded\");\n",
       "        run_callbacks()\n",
       "      }\n",
       "    }\n",
       "\n",
       "    function on_error(url) {\n",
       "      console.error(\"failed to load \" + url);\n",
       "    }\n",
       "\n",
       "    for (let i = 0; i < css_urls.length; i++) {\n",
       "      const url = css_urls[i];\n",
       "      const element = document.createElement(\"link\");\n",
       "      element.onload = on_load;\n",
       "      element.onerror = on_error.bind(null, url);\n",
       "      element.rel = \"stylesheet\";\n",
       "      element.type = \"text/css\";\n",
       "      element.href = url;\n",
       "      console.debug(\"Bokeh: injecting link tag for BokehJS stylesheet: \", url);\n",
       "      document.body.appendChild(element);\n",
       "    }\n",
       "\n",
       "    for (let i = 0; i < js_urls.length; i++) {\n",
       "      const url = js_urls[i];\n",
       "      const element = document.createElement('script');\n",
       "      element.onload = on_load;\n",
       "      element.onerror = on_error.bind(null, url);\n",
       "      element.async = false;\n",
       "      element.src = url;\n",
       "      console.debug(\"Bokeh: injecting script tag for BokehJS library: \", url);\n",
       "      document.head.appendChild(element);\n",
       "    }\n",
       "  };\n",
       "\n",
       "  function inject_raw_css(css) {\n",
       "    const element = document.createElement(\"style\");\n",
       "    element.appendChild(document.createTextNode(css));\n",
       "    document.body.appendChild(element);\n",
       "  }\n",
       "\n",
       "  const js_urls = [\"https://cdn.bokeh.org/bokeh/release/bokeh-3.2.1.min.js\", \"https://cdn.bokeh.org/bokeh/release/bokeh-gl-3.2.1.min.js\", \"https://cdn.bokeh.org/bokeh/release/bokeh-widgets-3.2.1.min.js\", \"https://cdn.bokeh.org/bokeh/release/bokeh-tables-3.2.1.min.js\", \"https://cdn.bokeh.org/bokeh/release/bokeh-mathjax-3.2.1.min.js\"];\n",
       "  const css_urls = [];\n",
       "\n",
       "  const inline_js = [    function(Bokeh) {\n",
       "      Bokeh.set_log_level(\"info\");\n",
       "    },\n",
       "function(Bokeh) {\n",
       "    }\n",
       "  ];\n",
       "\n",
       "  function run_inline_js() {\n",
       "    if (root.Bokeh !== undefined || force === true) {\n",
       "          for (let i = 0; i < inline_js.length; i++) {\n",
       "      inline_js[i].call(root, root.Bokeh);\n",
       "    }\n",
       "if (force === true) {\n",
       "        display_loaded();\n",
       "      }} else if (Date.now() < root._bokeh_timeout) {\n",
       "      setTimeout(run_inline_js, 100);\n",
       "    } else if (!root._bokeh_failed_load) {\n",
       "      console.log(\"Bokeh: BokehJS failed to load within specified timeout.\");\n",
       "      root._bokeh_failed_load = true;\n",
       "    } else if (force !== true) {\n",
       "      const cell = $(document.getElementById(\"bb9f9a7d-7a2b-4e71-a8ed-420a265e1fdb\")).parents('.cell').data().cell;\n",
       "      cell.output_area.append_execute_result(NB_LOAD_WARNING)\n",
       "    }\n",
       "  }\n",
       "\n",
       "  if (root._bokeh_is_loading === 0) {\n",
       "    console.debug(\"Bokeh: BokehJS loaded, going straight to plotting\");\n",
       "    run_inline_js();\n",
       "  } else {\n",
       "    load_libs(css_urls, js_urls, function() {\n",
       "      console.debug(\"Bokeh: BokehJS plotting callback run at\", now());\n",
       "      run_inline_js();\n",
       "    });\n",
       "  }\n",
       "}(window));"
      ],
      "application/vnd.bokehjs_load.v0+json": "(function(root) {\n  function now() {\n    return new Date();\n  }\n\n  const force = true;\n\n  if (typeof root._bokeh_onload_callbacks === \"undefined\" || force === true) {\n    root._bokeh_onload_callbacks = [];\n    root._bokeh_is_loading = undefined;\n  }\n\n\n  if (typeof (root._bokeh_timeout) === \"undefined\" || force === true) {\n    root._bokeh_timeout = Date.now() + 5000;\n    root._bokeh_failed_load = false;\n  }\n\n  const NB_LOAD_WARNING = {'data': {'text/html':\n     \"<div style='background-color: #fdd'>\\n\"+\n     \"<p>\\n\"+\n     \"BokehJS does not appear to have successfully loaded. If loading BokehJS from CDN, this \\n\"+\n     \"may be due to a slow or bad network connection. Possible fixes:\\n\"+\n     \"</p>\\n\"+\n     \"<ul>\\n\"+\n     \"<li>re-rerun `output_notebook()` to attempt to load from CDN again, or</li>\\n\"+\n     \"<li>use INLINE resources instead, as so:</li>\\n\"+\n     \"</ul>\\n\"+\n     \"<code>\\n\"+\n     \"from bokeh.resources import INLINE\\n\"+\n     \"output_notebook(resources=INLINE)\\n\"+\n     \"</code>\\n\"+\n     \"</div>\"}};\n\n  function display_loaded() {\n    const el = document.getElementById(\"bb9f9a7d-7a2b-4e71-a8ed-420a265e1fdb\");\n    if (el != null) {\n      el.textContent = \"BokehJS is loading...\";\n    }\n    if (root.Bokeh !== undefined) {\n      if (el != null) {\n        el.textContent = \"BokehJS \" + root.Bokeh.version + \" successfully loaded.\";\n      }\n    } else if (Date.now() < root._bokeh_timeout) {\n      setTimeout(display_loaded, 100)\n    }\n  }\n\n  function run_callbacks() {\n    try {\n      root._bokeh_onload_callbacks.forEach(function(callback) {\n        if (callback != null)\n          callback();\n      });\n    } finally {\n      delete root._bokeh_onload_callbacks\n    }\n    console.debug(\"Bokeh: all callbacks have finished\");\n  }\n\n  function load_libs(css_urls, js_urls, callback) {\n    if (css_urls == null) css_urls = [];\n    if (js_urls == null) js_urls = [];\n\n    root._bokeh_onload_callbacks.push(callback);\n    if (root._bokeh_is_loading > 0) {\n      console.debug(\"Bokeh: BokehJS is being loaded, scheduling callback at\", now());\n      return null;\n    }\n    if (js_urls == null || js_urls.length === 0) {\n      run_callbacks();\n      return null;\n    }\n    console.debug(\"Bokeh: BokehJS not loaded, scheduling load and callback at\", now());\n    root._bokeh_is_loading = css_urls.length + js_urls.length;\n\n    function on_load() {\n      root._bokeh_is_loading--;\n      if (root._bokeh_is_loading === 0) {\n        console.debug(\"Bokeh: all BokehJS libraries/stylesheets loaded\");\n        run_callbacks()\n      }\n    }\n\n    function on_error(url) {\n      console.error(\"failed to load \" + url);\n    }\n\n    for (let i = 0; i < css_urls.length; i++) {\n      const url = css_urls[i];\n      const element = document.createElement(\"link\");\n      element.onload = on_load;\n      element.onerror = on_error.bind(null, url);\n      element.rel = \"stylesheet\";\n      element.type = \"text/css\";\n      element.href = url;\n      console.debug(\"Bokeh: injecting link tag for BokehJS stylesheet: \", url);\n      document.body.appendChild(element);\n    }\n\n    for (let i = 0; i < js_urls.length; i++) {\n      const url = js_urls[i];\n      const element = document.createElement('script');\n      element.onload = on_load;\n      element.onerror = on_error.bind(null, url);\n      element.async = false;\n      element.src = url;\n      console.debug(\"Bokeh: injecting script tag for BokehJS library: \", url);\n      document.head.appendChild(element);\n    }\n  };\n\n  function inject_raw_css(css) {\n    const element = document.createElement(\"style\");\n    element.appendChild(document.createTextNode(css));\n    document.body.appendChild(element);\n  }\n\n  const js_urls = [\"https://cdn.bokeh.org/bokeh/release/bokeh-3.2.1.min.js\", \"https://cdn.bokeh.org/bokeh/release/bokeh-gl-3.2.1.min.js\", \"https://cdn.bokeh.org/bokeh/release/bokeh-widgets-3.2.1.min.js\", \"https://cdn.bokeh.org/bokeh/release/bokeh-tables-3.2.1.min.js\", \"https://cdn.bokeh.org/bokeh/release/bokeh-mathjax-3.2.1.min.js\"];\n  const css_urls = [];\n\n  const inline_js = [    function(Bokeh) {\n      Bokeh.set_log_level(\"info\");\n    },\nfunction(Bokeh) {\n    }\n  ];\n\n  function run_inline_js() {\n    if (root.Bokeh !== undefined || force === true) {\n          for (let i = 0; i < inline_js.length; i++) {\n      inline_js[i].call(root, root.Bokeh);\n    }\nif (force === true) {\n        display_loaded();\n      }} else if (Date.now() < root._bokeh_timeout) {\n      setTimeout(run_inline_js, 100);\n    } else if (!root._bokeh_failed_load) {\n      console.log(\"Bokeh: BokehJS failed to load within specified timeout.\");\n      root._bokeh_failed_load = true;\n    } else if (force !== true) {\n      const cell = $(document.getElementById(\"bb9f9a7d-7a2b-4e71-a8ed-420a265e1fdb\")).parents('.cell').data().cell;\n      cell.output_area.append_execute_result(NB_LOAD_WARNING)\n    }\n  }\n\n  if (root._bokeh_is_loading === 0) {\n    console.debug(\"Bokeh: BokehJS loaded, going straight to plotting\");\n    run_inline_js();\n  } else {\n    load_libs(css_urls, js_urls, function() {\n      console.debug(\"Bokeh: BokehJS plotting callback run at\", now());\n      run_inline_js();\n    });\n  }\n}(window));"
     },
     "metadata": {},
     "output_type": "display_data"
    }
   ],
   "source": [
    "import bokeh as bk\n",
    "import bokeh.layouts\n",
    "import bokeh.models\n",
    "import bokeh.plotting\n",
    "from bokeh.io import output_notebook\n",
    "from bokeh.palettes import all_palettes as palette\n",
    "output_notebook()  # render Bokeh animations inline"
   ]
  },
  {
   "cell_type": "markdown",
   "metadata": {},
   "source": [
    "# Problem 1 - PRC of RHH model"
   ]
  },
  {
   "cell_type": "markdown",
   "metadata": {},
   "source": [
    "## Initialization"
   ]
  },
  {
   "cell_type": "code",
   "execution_count": 8,
   "metadata": {},
   "outputs": [],
   "source": [
    "# TODO: Implement signal generator that takes in [time, coefficients, order, Bandwidth] as input\n",
    "def bandlmt_sig(t,a,M,omega):\n",
    "    a = np.zeros(2 * (M+1), dtype=complex)\n",
    "    a[M+1] = 1j\n",
    "\n",
    "    for m in range(-M, (M+1)):\n",
    "        u = np.sum(a[m] * np.exp(1j * (m *omega * t / M)))\n",
    "                                 \n",
    "    return u"
   ]
  },
  {
   "cell_type": "code",
   "execution_count": 18,
   "metadata": {},
   "outputs": [],
   "source": [
    "# TODO: Specify the time resolution for computing PRC. \n",
    "# The smaller the value the better the Winfree method performs\n",
    "\n",
    "# NOTE: start with a smaller value to ensure the code works before making it larger\n",
    "dt = 1"
   ]
  },
  {
   "cell_type": "code",
   "execution_count": 19,
   "metadata": {},
   "outputs": [],
   "source": [
    "# TODO: Specify the bias of HH Model (I in I_ext = I + u(t)).\n",
    "# This value will be used in both the neuron model itself and its PIF.\n",
    "\n",
    "bias = 15\n",
    "# unit is in pico amp\n",
    "\n",
    "# we suggest refering the injection current amplitude (aka without stimulus) \n",
    "# that you've experimented with in HW1 that gives robust firing "
   ]
  },
  {
   "cell_type": "markdown",
   "metadata": {},
   "source": [
    "## Item (i): Extract the PRC"
   ]
  },
  {
   "cell_type": "code",
   "execution_count": 54,
   "metadata": {},
   "outputs": [
    {
     "data": {
      "application/vnd.jupyter.widget-view+json": {
       "model_id": "c6d00570d38a45748ed3431d60d5cb5f",
       "version_major": 2,
       "version_minor": 0
      },
      "text/plain": [
       "  0%|          | 0/200 [00:00<?, ?it/s]"
      ]
     },
     "metadata": {},
     "output_type": "display_data"
    }
   ],
   "source": [
    "# TODO: Implement Winfree's Method\n",
    "# As a suggestion, the function should return \n",
    "# 1. period: the period of oscillation, maybe in number of time-steps\n",
    "# 2. limitCycle: the output of the state variables [V, n, m, h, a, b] on a limit cycle\n",
    "# 3. PRC: the phase response curve of the Voltage along the limit cycle\n",
    "\n",
    "hh = HodgkinHuxley()\n",
    "t = np.arange(0, 200, dt)\n",
    "I_ext=bias*np.ones_like(t)\n",
    "res = hh.solve(t, I_ext=bias*np.ones_like(t), verbose=True)\n",
    "\n",
    "def winfree(model, I, dt, t): #winfree(hh, I, dt, t)\n",
    "    \n",
    "    res_arr = []\n",
    "    res = hh.solve(t, I, verbose=True_)\n",
    "    V_rhh = res['V'][0]\n",
    "    n_rhh = res['n'][0]\n",
    "    m_rhh = res['m'][0]\n",
    "    h_rhh = res['h'][0]\n",
    "    \n",
    "    ref_ind = spike_detect(V_rhh)\n",
    "    ref_ind = np.where(ref_ind)[0]\n",
    "    \n",
    "    p_amp = 2\n",
    "    p_range = np.linspace(ref_ind[2], ref_ind[3], 50)\n",
    "    \n",
    "    signals_db = {}\n",
    "    for i, pid in enumerate(p_range):\n",
    "        hh.states[\"V\"] = V_rhh[round(pid)] + p_amp\n",
    "        hh.states[\"n\"] = n_rhh[round(pid)]\n",
    "        hh.states[\"m\"] = m_rhh[round(pid)]\n",
    "        hh.states[\"h\"] = h_rhh[round(pid)]\n",
    "    \n",
    "        res = hh.solve(\n",
    "            t[round(pid) :], \n",
    "            I_ext=I_ext[round(pid) :],\n",
    "            reset_initial_state=False,\n",
    "            verbose=False\n",
    "        )\n",
    "        res_arr.append(res)\n",
    "        signals_db[f\"xp{i}\"] = [1e3 * t[round(pid) :]]\n",
    "        signals_db[f\"vp{i}\"] = [res[\"V\"][0]]\n",
    "        signals_db[f\"np{i}\"] = [res[\"n\"][0]]\n",
    "        signals_db[f\"mp{i}\"] = [res[\"m\"][0]]\n",
    "        signals_db[f\"hp{i}\"] = [res[\"h\"][0]]\n",
    "    \n",
    "    return p, licy, PRC \n"
   ]
  },
  {
   "cell_type": "markdown",
   "metadata": {},
   "source": [
    "winfree function calls in the HH model, the HH.solve function needs I, dt as input. "
   ]
  },
  {
   "cell_type": "code",
   "execution_count": 45,
   "metadata": {},
   "outputs": [],
   "source": [
    "\n",
    "V_rhh = res['V'][0]\n",
    "n_rhh = res['n'][0]\n",
    "m_rhh = res['m'][0]\n",
    "h_rhh = res['h'][0]\n",
    "\n"
   ]
  },
  {
   "cell_type": "code",
   "execution_count": 46,
   "metadata": {},
   "outputs": [],
   "source": [
    "ref_ind = spike_detect(V_rhh)\n",
    "ref_ind  = np.where(ref_ind)[0]\n"
   ]
  },
  {
   "cell_type": "code",
   "execution_count": null,
   "metadata": {},
   "outputs": [],
   "source": [
    "I_ext=bias*np.ones_like(t)\n",
    "p_amp = 2  # perturbation amplitude\n",
    "p_range = np.linspace(ref_ind[2], ref_ind[3], 5)  # pertubation indices\n",
    "signals_db = {}\n",
    "res_arr= []\n",
    "for i, pid in enumerate(p_range):\n",
    "    hh.states[\"V\"] = V_rhh[round(pid)] + p_amp\n",
    "    #hh.states[\"n\"] = n_rhh[round(pid)]\n",
    "    #hh.states[\"m\"] = m_rhh[round(pid)]\n",
    "    #hh.states[\"h\"] = h_rhh[round(pid)]\n",
    "    \n",
    "    res = hh.solve(\n",
    "        t[round(pid) :], \n",
    "        I_ext=I_ext[round(pid) :],\n",
    "        reset_initial_state=False,\n",
    "        verbose=False\n",
    "    )\n",
    "    #res_arr.append(res)\n",
    "    #signals_db[f\"xp{i}\"] = [1e3 * t[round(pid) :]]\n",
    "    #signals_db[f\"vp{i}\"] = [res[\"V\"][0]]\n",
    "    #signals_db[f\"np{i}\"] = [res[\"n\"][0]]\n",
    "    #signals_db[f\"mp{i}\"] = [res[\"m\"][0]]\n",
    "    #signals_db[f\"hp{i}\"] = [res[\"h\"][0]]"
   ]
  },
  {
   "cell_type": "code",
   "execution_count": null,
   "metadata": {},
   "outputs": [],
   "source": []
  },
  {
   "cell_type": "code",
   "execution_count": 22,
   "metadata": {},
   "outputs": [
    {
     "ename": "TypeError",
     "evalue": "winfree() missing 2 required positional arguments: 'I' and 'dt'",
     "output_type": "error",
     "traceback": [
      "\u001b[0;31m---------------------------------------------------------------------------\u001b[0m",
      "\u001b[0;31mTypeError\u001b[0m                                 Traceback (most recent call last)",
      "Cell \u001b[0;32mIn[22], line 2\u001b[0m\n\u001b[1;32m      1\u001b[0m \u001b[38;5;66;03m# TODO: Simulate your model\u001b[39;00m\n\u001b[0;32m----> 2\u001b[0m period, limitCycle, PRC \u001b[38;5;241m=\u001b[39m \u001b[43mwinfree\u001b[49m\u001b[43m(\u001b[49m\u001b[43mnp\u001b[49m\u001b[38;5;241;43m.\u001b[39;49m\u001b[43mnan\u001b[49m\u001b[43m)\u001b[49m\n",
      "\u001b[0;31mTypeError\u001b[0m: winfree() missing 2 required positional arguments: 'I' and 'dt'"
     ]
    }
   ],
   "source": [
    "# TODO: Simulate your model\n",
    "period, limitCycle, PRC = winfree(np.nan)"
   ]
  },
  {
   "cell_type": "code",
   "execution_count": null,
   "metadata": {},
   "outputs": [],
   "source": [
    "# TODO: Visualize the limit cycle and the PRC along it"
   ]
  },
  {
   "cell_type": "markdown",
   "metadata": {},
   "source": [
    "## Item (ii): Compare Spikes of PIF and RHH"
   ]
  },
  {
   "cell_type": "markdown",
   "metadata": {},
   "source": [
    "We first generate a bandlimited signal with random coefficients"
   ]
  },
  {
   "cell_type": "code",
   "execution_count": 26,
   "metadata": {},
   "outputs": [],
   "source": [
    "# temporal support of the signal [0, 200] ms\n",
    "t = np.arange(0, 200, dt) # you can use [0,0.2]s  as well if it suits you\n",
    "\n",
    "# bandwidth: 20Hz\n",
    "omega = 2*np.pi*20\n",
    "\n",
    "# order: 5\n",
    "M = 5\n",
    "\n",
    "# Amplitude of the signal, you can use other values.\n",
    "Sig_Amp = 1\n",
    "\n",
    "# TODO: generate coefficients\n",
    "am = np.nan\n",
    "\n",
    "# generate input signal. Make sure that the signal's DC value (mean) is 0\n",
    "#u1 = bandlmt_sig(t, am, M, Omega)\n",
    "#u1 = Sig_Amp*u1/max(u1)"
   ]
  },
  {
   "cell_type": "code",
   "execution_count": 31,
   "metadata": {},
   "outputs": [
    {
     "data": {
      "text/plain": [
       "0j"
      ]
     },
     "execution_count": 31,
     "metadata": {},
     "output_type": "execute_result"
    }
   ],
   "source": [
    "bandlmt_sig(t,1,M,omega)"
   ]
  },
  {
   "cell_type": "markdown",
   "metadata": {},
   "source": [
    "Simulate the RHH neuron with bias and bandlimited input added."
   ]
  },
  {
   "cell_type": "code",
   "execution_count": null,
   "metadata": {},
   "outputs": [],
   "source": [
    "# TODO: simulate model and find spikes\n",
    "\n",
    "hh = HodgkinHuxley()\n",
    "acc = hh.solve(np.nan)\n"
   ]
  },
  {
   "cell_type": "code",
   "execution_count": null,
   "metadata": {},
   "outputs": [],
   "source": [
    "# TODO: find spike time indices of RHH\n",
    "\n",
    "# tk_idx_HH = np.nan"
   ]
  },
  {
   "cell_type": "markdown",
   "metadata": {},
   "source": [
    "### Output of PIF\n",
    "The t-transform of the PIF neuron can be written as,\n",
    "$$\n",
    "\\int_{t_k}^{t_{k+1}}(1+\\psi(s+\\tau(s))u(s))ds = \\delta_{t_{k+1}}-\\delta_{t_{k}} \\approx T, \\\\\n",
    "\\tau(t) = \\psi(t+\\tau(t))u(t),~\\tau(0)=0.\n",
    "$$    \n",
    "We assume that $\\tau(s)=0$ , and hence the $t$-transform is reduced to\n",
    "$$ \n",
    "\\int_{t_k}^{t_{k+1}}(1+\\psi(s)u(s))ds = T.\n",
    "$$  "
   ]
  },
  {
   "cell_type": "code",
   "execution_count": null,
   "metadata": {},
   "outputs": [],
   "source": [
    "# TODO: Implement the PIF model using the input defined above and the PRC curve computed\n",
    "\n",
    "# def pif(np.nan):\n",
    "#     return V\n",
    "\n",
    "\n"
   ]
  },
  {
   "cell_type": "code",
   "execution_count": null,
   "metadata": {},
   "outputs": [],
   "source": [
    "# TODO: execute the pif and find spike times\n",
    "\n",
    "# t_pif = np.nan"
   ]
  },
  {
   "cell_type": "code",
   "execution_count": 1,
   "metadata": {},
   "outputs": [],
   "source": [
    "# TODO: Plot HH, PIF outputs and compare the Inter-spike intervals (time_diff)"
   ]
  },
  {
   "cell_type": "markdown",
   "metadata": {},
   "source": [
    "## Item (iii): Record PIF Error Statistics"
   ]
  },
  {
   "cell_type": "code",
   "execution_count": null,
   "metadata": {},
   "outputs": [],
   "source": [
    "# TODO: Initalize experiment\n",
    "# Find a range of amplitude $C$ that is within the range of permissable input current to the RHH model.\n",
    "# Too large and the limit cycle could collapse\n",
    "C = np.nan # amplitude of u(t) <-- Edit this into an array of c vals\n",
    "\n",
    "avg_diff = np.zeros(len(C))\n",
    "var_diff = np.zeros(len(C))"
   ]
  },
  {
   "cell_type": "code",
   "execution_count": null,
   "metadata": {},
   "outputs": [],
   "source": [
    "# TODO: Simulate the RHH and PIF for inputs I_ext = I + u(t) for different amplitude of u(t): max|u(t)| = c\n",
    "# TODO: Compute the difference between interspike interval of the HH and PIF, \n",
    "# and calculate the mean/standard deviation of the error.\n",
    "# TODO: visualize the error across stimulus amplitude."
   ]
  },
  {
   "cell_type": "markdown",
   "metadata": {},
   "source": [
    "# Problem 2: Synaptic Input and PRC"
   ]
  },
  {
   "cell_type": "markdown",
   "metadata": {},
   "source": [
    "### Step 1. Simulate neuron with bias current"
   ]
  },
  {
   "cell_type": "code",
   "execution_count": null,
   "metadata": {},
   "outputs": [],
   "source": [
    "# TODO: Simulate the PostSynaptic Neuron with a bias current of 20pA\n",
    "# use dt = 1e-5\n"
   ]
  },
  {
   "cell_type": "code",
   "execution_count": null,
   "metadata": {},
   "outputs": [],
   "source": [
    "# TODO: plot the spike train V_post and the stable limit cycle"
   ]
  },
  {
   "cell_type": "markdown",
   "metadata": {},
   "source": [
    "### Step 2. Generate the neuro transmitter traces"
   ]
  },
  {
   "cell_type": "code",
   "execution_count": null,
   "metadata": {},
   "outputs": [],
   "source": [
    "# TODO extract the time/index of maximum and minimum PRC"
   ]
  },
  {
   "cell_type": "code",
   "execution_count": null,
   "metadata": {},
   "outputs": [],
   "source": [
    "# TODO plot the NT for both conditions"
   ]
  },
  {
   "cell_type": "markdown",
   "metadata": {},
   "source": [
    "### Step 3.  Simulate and plot the synaptic current for AMPA synapse"
   ]
  },
  {
   "cell_type": "code",
   "execution_count": null,
   "metadata": {},
   "outputs": [],
   "source": [
    "# TODO: Use the Synaptic current as $u(t)$ to the postsynaptic Neuron\n",
    "# TODO: link the synapse to HH neuron, simulate over t using Euler's method\n",
    "\n",
    "from compneuro.synapses.ampa import AMPA\n",
    "\n",
    "# c  = np.nan\n",
    "# NT = c * spike_state\n",
    "\n",
    "# syn = AMPA() \n",
    "# syn_res = syn.solve(...) #use \"Euler\" solver"
   ]
  },
  {
   "cell_type": "code",
   "execution_count": null,
   "metadata": {},
   "outputs": [],
   "source": [
    "# TODO: Plot the synaptic conductance, synaptic current and postsynaptic voltage for each NT"
   ]
  },
  {
   "cell_type": "markdown",
   "metadata": {},
   "source": [
    "### Step 4. Limit cycle with synaptic injection"
   ]
  },
  {
   "cell_type": "code",
   "execution_count": null,
   "metadata": {},
   "outputs": [],
   "source": [
    "# TODO: Plot\n",
    "# overlay the resulting spike_train and limit cycle on the plots from **1.**"
   ]
  },
  {
   "cell_type": "markdown",
   "metadata": {},
   "source": [
    "### Step 5: Simulate and plot the synapctic current for GABA_A synspase"
   ]
  },
  {
   "cell_type": "code",
   "execution_count": null,
   "metadata": {},
   "outputs": [],
   "source": [
    "from compneuro.synapses.gaba_a import GABA_A\n",
    "\n",
    "# c  = np.nan\n",
    "# NT = c * spike_state\n",
    "\n",
    "\n",
    "\n",
    "# syn = GABA_A() \n",
    "# syn_res = syn.solve(...) #use \"Euler\" solver\n"
   ]
  },
  {
   "cell_type": "code",
   "execution_count": null,
   "metadata": {},
   "outputs": [],
   "source": []
  }
 ],
 "metadata": {
  "kernelspec": {
   "display_name": "Python 3 (ipykernel)",
   "language": "python",
   "name": "python3"
  },
  "language_info": {
   "codemirror_mode": {
    "name": "ipython",
    "version": 3
   },
   "file_extension": ".py",
   "mimetype": "text/x-python",
   "name": "python",
   "nbconvert_exporter": "python",
   "pygments_lexer": "ipython3",
   "version": "3.11.4"
  }
 },
 "nbformat": 4,
 "nbformat_minor": 4
}
