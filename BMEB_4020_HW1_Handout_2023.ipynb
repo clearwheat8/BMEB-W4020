{
 "cells": [
  {
   "cell_type": "markdown",
   "metadata": {},
   "source": [
    "## BMEB W4020: Circuits in the Brain 2020 Fall Homework #1\n",
    "\n",
    "Author: [Shashwat Shukla](shashwat.shukla@columbia.edu), [Bruce Yi Bu](yb2520@columbia.edu), [Pranav Deevi](pid2104@columbia.edu)\n",
    "\n",
    "Based on Previous Work by: Yinghao Li, Tingkai Liu, Mehmet Kerem Turkcan, Chung-Heng Yeh, Konstantinos Psychas\n",
    "\n",
    "Copyright 2023 Shashwat Shukla, Tingkai Liu, Bruce Yi Bu, Pranav Deevi and Aurel A. Lazar"
   ]
  },
  {
   "cell_type": "markdown",
   "metadata": {},
   "source": [
    "### Names and UNIs\n",
    "\n",
    "- Lawrence Xu, lzx2002\n",
    "\n",
    "(Please include the names and UNIs of all team members here; **double click** on **markdown** blocks to edit)"
   ]
  },
  {
   "cell_type": "markdown",
   "metadata": {},
   "source": [
    "### Before you start...\n",
    "#### The code skeleton \n",
    "* we provide a skeleton of the code for HW1 and all future assignments (excluding the projects)\n",
    "* you will find helper functions as well as headers of functions that need to be completed (look for \"**TO DO**\" comments)\n",
    "* note that you are not required to follow this sequence; the skeleton is just provided for convenience but we highly recommend using it, and you are free to modify it or add custom functions to it.\n",
    "\n",
    "#### Miscellaneous (attention)\n",
    "* please remember to include your name in the corresponding field at the start of this notebook, otherwize an automatic 0 grade will be received for all team members\n",
    "* please post your questions on Ed Discussions, and attend the office hours (every Thursday evening)\n",
    "* please clearly present your solutions and answers with proper use of plots, markdown and comments\n",
    "* please start the assignment as soon as possible, submission deadlines are strictly followed and late submissions will receive a 10% penalty for each 24 hours post the deadline\n",
    "* please email the TA/CAs at least 48hrs ahead of the deadline if you cannot submit an assignment on time (due to exam schedules or overwhelming deadlines, etc), we are flexible as long as we are informed."
   ]
  },
  {
   "cell_type": "markdown",
   "metadata": {},
   "source": [
    "## PROBLEM: The Reduced Hodgkin-Huxley Model (Wilson Neuron) \n",
    "### Part 1: Solving the Reduced Hodgkin-Huxley Model Numerically\n",
    "In this problem you are asked to implement (solve) a reduced Hodgkin-Huxley neuron model (**Wilson neuron**) that is a further simplification of the Rinzel model. The Wilson neuron model is described by the differential equations:\n",
    "\n",
    "\\begin{equation}\n",
    "\\begin{split}\n",
    "C\\frac{dV}{dt} &= -g_{Na}\\cdot(17.81+47.71V+32.63V^2)\\cdot(V-E_{Na}) - g_R\\cdot R\\cdot(V-E_R) + I(t) \\\\\n",
    "\\tau_R\\frac{dR}{dt} &= -R + 1.35V + 1.03 \\\\\n",
    "\\end{split}\n",
    "\\end{equation}\n",
    "where \n",
    "\n",
    "\n",
    "    \n",
    "|$g_{Na}$|$E_{Na}$|$g_R$|$E_R$|$\\tau_R$|$C$|\n",
    "|:----|:-----|:---|:---|:-----|:-----|\n",
    "|<img style=\"width:100px\">1 $mS/cm^2$ |<img style=\"width:100px\">0.55 $mV$|<img style=\"width:100px\">26 $mS/cm^2 $|<img style=\"width:100px\">-0.92 $mV$|<img style=\"width:100px\">1.9 $ms$|<img style=\"width:100px\">0.8 $\\mu F/cm^2$|\n",
    "    \n",
    "Create an input current of the form\n",
    "$$I(t)= \\sum^{10}_{k=0}a_k \\frac{\\sin \\Omega (t-kT)}{\\Omega (t-kT)}$$\n",
    "where $a_k = constant (pA), 0 \\leq k \\leq 10$, $\\Omega = 2 \\pi \\cdot 60$ Hz, $T = \\pi/\\Omega$,\n",
    "$t \\in [0, 200]$ ms. \n",
    "\n",
    "1. Implement the Wilson neuron model defined by the equations above. You are asked to implement [Euler's method](https://en.wikipedia.org/wiki/Euler_method) for solving differential equations numerically. Essentially, for the differential equation $\\frac{dx}{dt} = f(x) + I(t)$, we iteratively evaluate the value of $x(t+\\Delta t)$ given the previous value $x(t)$ and the gradient of $f(x(t)) + I(t)$ as $\\frac{x(t+\\Delta t) - x(t)}{\\Delta t} = f(x(t)) + I(t)$.\n",
    "\n",
    "2. Assuming that $a_k=constant, -M \\le m \\le M$, with initial conditions $V(0)=-0.7mV, R(0)=0.088 (unitless)$, plot the input and the output of the Wilson neuron on the time interval [0, 200] ms, using an $a_k$ such that the neuron robustly spikes. \n",
    "    * Make sure to show one plot featuring both input current and membrane voltage. You can use the `.twinx()` function in `matplotlib` (google documentation if you wish) to create two y-axes in one plot.\n",
    "    * We recommend experimenting with a wide range of $a_k$ values to see its effect on the voltage spikes.\n",
    "    * Since Wilson model's voltage scale is *100 smaller* than the biophysically accurate range (e.g., $V(0)=-70mV$ would be the biophysical norm), feel free to scale up in your plot the voltage output by 100 times.  \n",
    "3. Empirically determine a range of values for the $a_k$'s that makes the neuron fire. Plot the total number of spikes fired in the interval [0, 200] ms for a broad range of $a_k = constant$ values. For the same range of input current values, show the following\n",
    "    1. spike count\n",
    "    2. spike rate (spikes per second)\n",
    "    3. spike amplitude (Voltage value at spike time)\n",
    "4. Assume the input current is $I(t) = c\\cdot u(t)$, where $u(t)$ is a [Heaviside step function](https://en.wikipedia.org/wiki/Heaviside_step_function), and $c$ is amplitude of the injected current in $pA$. Find a range of values for $c$ such that the Wilson neuron exhibits periodic spiking (limit cycle). Draw the limit cycle in the $V$ vs. $R$ plane for at least 3 different values of $c$, comment on the effect of the amplitude $c$ on the limit cycle and the membrane voltage based on your results."
   ]
  },
  {
   "cell_type": "code",
   "execution_count": 12,
   "metadata": {},
   "outputs": [],
   "source": [
    "# Import libraries\n",
    "%matplotlib inline\n",
    "import numpy as np\n",
    "import matplotlib.pyplot as plt\n",
    "from scipy.integrate import odeint\n",
    "\n",
    "np.random.seed(0)  # fix random seed"
   ]
  },
  {
   "cell_type": "code",
   "execution_count": 6,
   "metadata": {},
   "outputs": [],
   "source": [
    "# Define spike detection function\n",
    "def spike_detect(v, thresh):\n",
    "    x = (v[2:-1] > v[1:-2]) * (v[2:-1] > v[3:]) * (v[2:-1] > thresh)\n",
    "    x = np.append(False, x)\n",
    "    x = np.append(x, False)\n",
    "    return x\n"
   ]
  },
  {
   "cell_type": "code",
   "execution_count": 39,
   "metadata": {},
   "outputs": [],
   "source": [
    "# TODO - define a funciton to generate the input current\n",
    "# the functions should take the following forms\n",
    "\n",
    "#def I_in(t,a,K,omega):\n",
    "#   input: (t,a,K,omega), a is a vector of all ak values\n",
    "#   output: I\n",
    "\n",
    "def I_in(t, a, k, omega):\n",
    "    I = 0.0\n",
    "    for j in range(k):\n",
    "        I = I + a[j]*(np.sin(omega) * (t - j * (np.pi / omega))) / (omega * (t - j * (np.pi / omega)))\n",
    "    return I\n",
    "\n"
   ]
  },
  {
   "cell_type": "code",
   "execution_count": 27,
   "metadata": {},
   "outputs": [],
   "source": [
    "g_Na = 1 #mS/cm^2\n",
    "E_Na = 0.55 #mV\n",
    "g_R = 26 #mS/cm^2\n",
    "E_R = -0.92 #mV\n",
    "th_R = 1.9 #ms\n",
    "C = 0.8 #muF / cm^2\n",
    "k = 10\n",
    "\n",
    "omega = 2 * np.pi / (1000 / 60)\n",
    "\n",
    "#dV/dt = f(t, V)\n",
    "#dR/dt = f(t, R)"
   ]
  },
  {
   "cell_type": "code",
   "execution_count": 16,
   "metadata": {},
   "outputs": [],
   "source": [
    "# Wilson model dynamics\n",
    "# Create a function to define the wilson model \n",
    "# that takes in injection current and time vector as inpuit\n",
    "# and return V and R as vectors \n",
    "# Pay attention to time scale (ms vs s)!\n",
    "\n",
    "t = np.linspace(0, 1, 200)\n",
    "\n",
    "V0 = -0.7 #mV\n",
    "R0 = 0.088\n",
    "\n",
    "def dVdt(V, t, I_ext, g_Na, E_Na, g_R, E_R, th_R, C, R):\n",
    "    dVdt = (-g_Na * (17.81 + (47.71 * V) + (32.63 * (V ** 2))) * (V - E_Na) - (g_R * R * (V - E_R)) + I_ext) / C\n",
    "    \n",
    "    return dVdt\n",
    "\n",
    "def dRdt(V, t, I_ext, g_Na, E_Na, g_R, E_R, th_R, C, R):\n",
    "    dRdt = (-R + 1.35 * V + 1.03) / th_R\n",
    "\n",
    " \n",
    "    \n",
    "def wilson(t, I_ext):\n",
    "    V = odeint(dVdt, )\n",
    "\n",
    "    \n",
    "    \n",
    "                                                                               \n",
    "    return V, R"
   ]
  },
  {
   "cell_type": "code",
   "execution_count": 21,
   "metadata": {},
   "outputs": [],
   "source": [
    "def dWdt(W, t):\n",
    "    \n",
    "    g_Na = 1 #mS/cm^2\n",
    "    E_Na = 0.55 #mV\n",
    "    g_R = 26 #mS/cm^2\n",
    "    E_R = -0.92 #mV\n",
    "    th_R = 1.9 #ms\n",
    "    C = 0.8 #muF / cm^2\n",
    "\n",
    "    V, R = W\n",
    "    dVdt = (-g_Na * (17.81 + (47.71 * V) + (32.63 * (V ** 2))) * (V - E_Na) - (g_R * R * (V - E_R)) + I_ext) / C\n",
    "    dRdt = (-R + 1.35 * V + 1.03) / th_R\n",
    "\n",
    "    return dVdt, dRdt\n"
   ]
  },
  {
   "cell_type": "code",
   "execution_count": 38,
   "metadata": {},
   "outputs": [
    {
     "name": "stderr",
     "output_type": "stream",
     "text": [
      "C:\\Users\\lawre\\AppData\\Local\\Temp\\ipykernel_6124\\3950450935.py:11: RuntimeWarning: invalid value encountered in divide\n",
      "  I = I + a*(np.sin(omega) * (t - j * (np.pi / omega))) / (omega * (t - j * (np.pi / omega)))\n"
     ]
    },
    {
     "ename": "ValueError",
     "evalue": "setting an array element with a sequence. The requested array has an inhomogeneous shape after 1 dimensions. The detected shape was (2,) + inhomogeneous part.",
     "output_type": "error",
     "traceback": [
      "\u001b[1;31m---------------------------------------------------------------------------\u001b[0m",
      "\u001b[1;31mValueError\u001b[0m                                Traceback (most recent call last)",
      "Cell \u001b[1;32mIn[38], line 8\u001b[0m\n\u001b[0;32m      6\u001b[0m I_ext \u001b[38;5;241m=\u001b[39m I_in(t, a, k, omega)\n\u001b[0;32m      7\u001b[0m t \u001b[38;5;241m=\u001b[39m np\u001b[38;5;241m.\u001b[39mlinspace(\u001b[38;5;241m0\u001b[39m, \u001b[38;5;241m1\u001b[39m, \u001b[38;5;241m200\u001b[39m)\n\u001b[1;32m----> 8\u001b[0m sol \u001b[38;5;241m=\u001b[39m odeint(dWdt, y0\u001b[38;5;241m=\u001b[39mW_0, t\u001b[38;5;241m=\u001b[39mt)\n",
      "File \u001b[1;32m~\\anaconda3\\Lib\\site-packages\\scipy\\integrate\\_odepack_py.py:242\u001b[0m, in \u001b[0;36modeint\u001b[1;34m(func, y0, t, args, Dfun, col_deriv, full_output, ml, mu, rtol, atol, tcrit, h0, hmax, hmin, ixpr, mxstep, mxhnil, mxordn, mxords, printmessg, tfirst)\u001b[0m\n\u001b[0;32m    240\u001b[0m t \u001b[38;5;241m=\u001b[39m copy(t)\n\u001b[0;32m    241\u001b[0m y0 \u001b[38;5;241m=\u001b[39m copy(y0)\n\u001b[1;32m--> 242\u001b[0m output \u001b[38;5;241m=\u001b[39m _odepack\u001b[38;5;241m.\u001b[39modeint(func, y0, t, args, Dfun, col_deriv, ml, mu,\n\u001b[0;32m    243\u001b[0m                          full_output, rtol, atol, tcrit, h0, hmax, hmin,\n\u001b[0;32m    244\u001b[0m                          ixpr, mxstep, mxhnil, mxordn, mxords,\n\u001b[0;32m    245\u001b[0m                          \u001b[38;5;28mint\u001b[39m(\u001b[38;5;28mbool\u001b[39m(tfirst)))\n\u001b[0;32m    246\u001b[0m \u001b[38;5;28;01mif\u001b[39;00m output[\u001b[38;5;241m-\u001b[39m\u001b[38;5;241m1\u001b[39m] \u001b[38;5;241m<\u001b[39m \u001b[38;5;241m0\u001b[39m:\n\u001b[0;32m    247\u001b[0m     warning_msg \u001b[38;5;241m=\u001b[39m _msgs[output[\u001b[38;5;241m-\u001b[39m\u001b[38;5;241m1\u001b[39m]] \u001b[38;5;241m+\u001b[39m \u001b[38;5;124m\"\u001b[39m\u001b[38;5;124m Run with full_output = 1 to get quantitative information.\u001b[39m\u001b[38;5;124m\"\u001b[39m\n",
      "\u001b[1;31mValueError\u001b[0m: setting an array element with a sequence. The requested array has an inhomogeneous shape after 1 dimensions. The detected shape was (2,) + inhomogeneous part."
     ]
    }
   ],
   "source": [
    "V_0 = -0.7\n",
    "R_0 = 0.088\n",
    "W_0 = (V_0, R_0)\n",
    "\n",
    "a = 1\n",
    "I_ext = I_in(t, a, k, omega)\n",
    "t = np.linspace(0, 1, 200)\n",
    "sol = odeint(dWdt, y0=W_0, t=t)"
   ]
  },
  {
   "cell_type": "code",
   "execution_count": 36,
   "metadata": {},
   "outputs": [
    {
     "ename": "SyntaxError",
     "evalue": "invalid syntax. Perhaps you forgot a comma? (3811138061.py, line 1)",
     "output_type": "error",
     "traceback": [
      "\u001b[1;36m  Cell \u001b[1;32mIn[36], line 1\u001b[1;36m\u001b[0m\n\u001b[1;33m    print(type(a[])\u001b[0m\n\u001b[1;37m               ^\u001b[0m\n\u001b[1;31mSyntaxError\u001b[0m\u001b[1;31m:\u001b[0m invalid syntax. Perhaps you forgot a comma?\n"
     ]
    }
   ],
   "source": [
    "print(type()"
   ]
  },
  {
   "cell_type": "code",
   "execution_count": 5,
   "metadata": {},
   "outputs": [],
   "source": [
    "# TO DO: simulate the model and detect the spikes\n"
   ]
  },
  {
   "cell_type": "code",
   "execution_count": 6,
   "metadata": {},
   "outputs": [],
   "source": [
    "# TO DO: plot the results"
   ]
  },
  {
   "cell_type": "code",
   "execution_count": 7,
   "metadata": {},
   "outputs": [],
   "source": [
    "# Determine the range where the neuron robustly fires\n",
    "# TO DO: perform the experiment by first defining the range of amplitudes"
   ]
  },
  {
   "cell_type": "code",
   "execution_count": 8,
   "metadata": {},
   "outputs": [],
   "source": [
    "# TO DO: plot the results"
   ]
  },
  {
   "cell_type": "code",
   "execution_count": 9,
   "metadata": {},
   "outputs": [],
   "source": [
    "# For Heaviside step function current input, determine range of c to make the model periodically spike\n",
    "# We recomment picking three values to show where the neuron\n",
    "# 1. c smaller than the range\n",
    "# 2. c within the range\n",
    "# 3. c over the range\n",
    "# TO DO: for each case above, plot limit cycle (V vs R) and the membrane voltage vs time"
   ]
  },
  {
   "cell_type": "markdown",
   "metadata": {},
   "source": [
    "#### TO DO: (double click to edit)\n",
    "Comment (in markdown) on the effect of c on the limit cycle and membrane voltage that you observe. "
   ]
  },
  {
   "cell_type": "markdown",
   "metadata": {},
   "source": [
    "### Part 2: Analyzing the Internal State of the Reduced Hodgkin-Huxley Model\n",
    "\n",
    "As done in Chapter 3 for the Na and K channels of a Hodgkin-Huxley neuron, in this part, we model the variable `R` of the Reduced Hodgkin-Huxley neuron as a memconductance. \n",
    "1. Write down Ohm's law for $I_{R}$ and the differential equation for $I_R$, treating the current $I_R$ as input. \n",
    "2. Assuming (a) ramp and (b) spike train input currents, plot the voltage $V_R=V-E_R$ versus current $I_R$. Is $V_R$ a function of the current $I_R$?\n",
    "3. Is the flux $\\phi_R (t) = \\int_0^t V_R(s) ds$ a function of the charge $q_R (t) = \\int_0^t I_R (s) ds$?"
   ]
  },
  {
   "cell_type": "markdown",
   "metadata": {},
   "source": [
    "#### Q1: (double click to edit)\n",
    "TO DO: Your answer here.\n",
    "(You can look up markdown syntax for equations online or simply follow the previous question prompts)"
   ]
  },
  {
   "cell_type": "code",
   "execution_count": 1,
   "metadata": {},
   "outputs": [],
   "source": [
    "# Q2: Ramp current input\n",
    "#TO DO: "
   ]
  },
  {
   "cell_type": "code",
   "execution_count": 2,
   "metadata": {},
   "outputs": [],
   "source": [
    "# Q2: Sike train current input\n",
    "# TO DO: generate spike train with poison process"
   ]
  },
  {
   "cell_type": "markdown",
   "metadata": {},
   "source": [
    "#### Q2: (double click to edit)\n",
    "TO DO: observation on $V_R$ and $I_R$"
   ]
  },
  {
   "cell_type": "markdown",
   "metadata": {},
   "source": [
    "#### Q3: (double click to edit)\n",
    "TO DO: your answer here"
   ]
  }
 ],
 "metadata": {
  "kernelspec": {
   "display_name": "Python 3 (ipykernel)",
   "language": "python",
   "name": "python3"
  },
  "language_info": {
   "codemirror_mode": {
    "name": "ipython",
    "version": 3
   },
   "file_extension": ".py",
   "mimetype": "text/x-python",
   "name": "python",
   "nbconvert_exporter": "python",
   "pygments_lexer": "ipython3",
   "version": "3.11.4"
  }
 },
 "nbformat": 4,
 "nbformat_minor": 4
}
