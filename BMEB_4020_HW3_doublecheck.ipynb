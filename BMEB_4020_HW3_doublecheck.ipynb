{
 "cells": [
  {
   "cell_type": "markdown",
   "metadata": {},
   "source": [
    "# BMEB W4020: Circuits in the Brain 2023Fall Homework \\#3 Handout\n",
    "*Author:* Shashwat Shukla <shashwat.shukla@columbia.edu> Bruce Yi Bu <yb2520@columbia.edu>\n",
    "\n",
    "\n",
    "*Based on Previous Work by:* Tingkai Liu, Mehmet Kerem Turkcan, Chung-Heng Yeh,\n",
    "                  Konstantinos Psychas, Cong Han\n",
    "\n",
    "Copyright 2012-2023 Shashwat Shukla, Bruce Yi Bu, Tingkai Liu and Aurel A. Lazar\n"
   ]
  },
  {
   "cell_type": "markdown",
   "metadata": {},
   "source": [
    "# PROBLEM \\#1 - $\\delta$-insensitive TDM\n",
    "\n",
    "The stimulus of a single-input single-output (SISO) TEM is modeled as\n",
    "a bandlimited function of the form\n",
    "$$\n",
    "u(t)= \\sum_{k=1}^{15} u(kT) \\frac{\\sin \\Omega (t-kT)}{\\Omega (t-kT)},\n",
    "$$\n",
    "where $\\Omega = 2 \\pi \\cdot 25$ Hz and $T=\\frac{\\pi}{\\Omega}$.\n",
    "\n",
    "Assume that the TEM describes a IAF neuron. After choosing appropriate TEM parameter values (provided in the skeleton) generate the trigger times in the time interval $[-2T, 18T]$.\n",
    "\n",
    "### Tasks\n",
    "1. Implement a threshold insensitive ($\\delta$-insensitive) decoding algorithm for IAF.\n",
    "2. Plot the recovery error (difference between the input stimulus and the recovered waveform) and calculate the whole-signal Signal-to-Noise ratio of the recovery in decibel (dB); plot SNR as function of time.\n",
    "3. Compare the $\\delta$-insensitive recovery result with the $\\delta$-sensitive result (implementation of $\\delta$-sensitive algorithm can be found in lecture notebook).\n",
    "\n",
    "\n",
    "### Note\n",
    "* The derivation of $\\delta$-insensitive TDM decoding is available in **Chapter 6**. Highly recommend reading through the entire chapter thoroughly as it will **massively** help with the following chapters and lectures; pay attention to the *Compensation Principle*.\n",
    "\n",
    "* Whole-signal SNR of the recovery can be calculated for signal $u(t)$ and recovered signal $u_{rec}(t)$ as \n",
    "$\n",
    "SNR = 10\\log_{10}\\left(\\frac{mean(u^2)}{mean((u-u_{rec})^2)}\\right)\n",
    "$\n",
    "the result will be in dB\n",
    "* To plot SNR as a function of time, use \n",
    "$\n",
    "SNR = 10\\log_{10}\\left(\\frac{u^2}{(u-u_{rec})^2}\\right)\n",
    "$ to preserve the time dimension."
   ]
  },
  {
   "cell_type": "markdown",
   "metadata": {},
   "source": [
    "# Problem 2 - Derivation of TEM/TDM algorithm for RHH Neuron with dendritic processing\n",
    "In this problem you are asked to derive and implement a TEM/TDM algorithm for the reduced Hodgkin-Huxley neuron (BSG in the figure below) with dendritic processing modeled as a linear filter ($h(t)$ in the figure below).\n",
    "\n",
    "The encoding circuit consisting of a filter in cascade with a RHH neuron:\n",
    "   <center><img src=\"./filter-bsg.png\" width=650/></center>\n",
    "\n",
    "In the figure above, the external current injected into the neuron is given as \n",
    "$$\n",
    "I_{ext}(t) = b + \\underbrace{\\left( u \\ast h \\right)(t)}_{v(t)}\n",
    "$$\n",
    "where $b$ is the injected current (also written as $I$ in other texts).\n",
    "\n",
    "\n",
    "### Tasks\n",
    "1. Generate the impulse response of $h(t)$ and visualize.\n",
    "2. With $b=20$, encode a randomly generated input stimulus (from Problem 1) using a reduced PIF neuron that is equivalent to the HH neuron model. \n",
    "3. Derive an algorithm to recover the signal $u(t)$ from the recieved spikes.\n",
    "    1. Writing down the $t$-transform of the encoding circuit shown above in an inner product form.\n",
    "    2. Find the time decoding machine (TDM) that recovers the signal $u$. Particularly, provide forms for $q_k$ and $[G]_{lk}$. Please write down the important procedures.\n",
    "3. Recover the signal $u(t)$ from output spike times of the reduced PIF and show encoding error and SNR (as in Problem \\#1 above, calculate and plot).\n",
    "\n",
    "\n",
    "### Stimulus and Filter\n",
    "Use the stimulus $u(t)$ from Problem \\#1, and the filter $h$ is \n",
    "$$\n",
    "h(t)= 3 \\cdot 150 \\cdot \\mbox{exp}\\left(-100 t\\right)\\left(\\frac{(150 t)^3}{3!}-\\frac{(150t)^5}{5!}\\right) \\cdot \\mathbb{1}_{t\\ge 0}\n",
    "$$\n",
    "note that $\\mathbb{1}_{t\\ge 0}$ is also known as the Heaviside Step function which ensures that the filter $h(t)$ is causal.\n",
    "\n",
    "### Note\n",
    "You know the filter $h$ and filtered output $v(t) = (u \\ast h)(t)$, but you _do not_ know $u(t)$. You can read the spike times, and you want to recover $u(t)$ from the spikes."
   ]
  },
  {
   "cell_type": "markdown",
   "metadata": {},
   "source": [
    "# Problem 1"
   ]
  },
  {
   "cell_type": "code",
   "execution_count": null,
   "metadata": {},
   "outputs": [],
   "source": [
    "%matplotlib inline\n",
    "import numpy as np\n",
    "np.random.seed(0)  # fix random seed\n",
    "import matplotlib.pyplot as plt\n",
    "\n",
    "import typing as tp\n",
    "from scipy import signal\n",
    "from scipy.linalg import circulant\n",
    "from scipy.integrate import cumulative_trapezoid as cumtrapz\n",
    "from compneuro.utils.phase_response import PIF, iPRC\n",
    "from compneuro.utils.neuron import limit_cycle\n",
    "from compneuro.utils.signal import spike_detect, spike_detect_local\n",
    "from compneuro.neurons.hodgkin_huxley_3state import HodgkinHuxley3State\n",
    "from compneuro.utils.signal import convolve\n",
    "\n",
    "plt.rcParams[\"figure.figsize\"] = [10, 5]\n",
    "plt.rcParams[\"figure.dpi\"] = 100"
   ]
  },
  {
   "cell_type": "code",
   "execution_count": null,
   "metadata": {},
   "outputs": [],
   "source": [
    "# TODO: the stimulus ut\n",
    "def ut(t,T, omega):\n",
    "    return np.nan"
   ]
  },
  {
   "cell_type": "markdown",
   "metadata": {},
   "source": [
    "### Part 1. Implement a threshold insensitive ($\\delta$-insensitive) decoding algorithm for IAF."
   ]
  },
  {
   "cell_type": "code",
   "execution_count": null,
   "metadata": {},
   "outputs": [],
   "source": [
    "# TODO: implement IAF\n",
    "iaf_params = dict(\n",
    "    kappa = 1# mF\n",
    "    delta = 0.01,  # mV\n",
    "    b = 1 #mu A\n",
    "    omega = omega\n",
    ")\n",
    "\n",
    "def integrate_step_IAF():\n",
    "    return np.nan\n",
    "\n",
    "def iaf_encode():\n",
    "    return np.nan"
   ]
  },
  {
   "cell_type": "code",
   "execution_count": null,
   "metadata": {},
   "outputs": [],
   "source": [
    "# TODO: endode with IAF\n",
    "dt = 1e-6\n",
    "# T = np.pi/omega\n",
    "# t = np.arange(-2*T, 18*T, dt)\n",
    "# u = ut(t,T,omega)\n",
    "# tk = []"
   ]
  },
  {
   "cell_type": "markdown",
   "metadata": {},
   "source": [
    "**Disclaimer** implementation of $\\delta$-sensitive algorithm can be found in lecture notebook."
   ]
  },
  {
   "cell_type": "code",
   "execution_count": null,
   "metadata": {},
   "outputs": [],
   "source": [
    "# TODO: Recovery \n",
    "\n",
    "# functions for computing the matrices, you can (and probably should) add more\n",
    "def compute_G(t, tk):\n",
    "#     return G\n",
    "def compute_q(t, tk):\n",
    "#     return q\n",
    "\n",
    "\n",
    "def iaf_decoder_sen(t, tk):\n",
    "    # TODO: find the sensitive case\n",
    "    return np.nan\n",
    "\n",
    "def iaf_decoder_insen(t, tk):\n",
    "    q = compute_q(t, tk)\n",
    "    G = compute_G(t, tk)\n",
    "    # TODO: implement the insensitive case\n",
    "    return np.nan\n",
    "\n",
    "c_insens, u_rec_insens = np.NaN # delta-insensitive recovery coefficients"
   ]
  },
  {
   "cell_type": "code",
   "execution_count": null,
   "metadata": {},
   "outputs": [],
   "source": [
    "# TODO: Plot recovery (in the same plot with the original)"
   ]
  },
  {
   "cell_type": "markdown",
   "metadata": {},
   "source": [
    "### Part 2: Plot the recovery SNR"
   ]
  },
  {
   "cell_type": "code",
   "execution_count": null,
   "metadata": {},
   "outputs": [],
   "source": [
    "# Compute SNR \n",
    "# the SNR formula given in the question prompt is for whole-signal SNR\n",
    "# which is a single value\n",
    "# for SNR vs t plot use the function one below \n",
    "def SNR_f(u, u_rec):\n",
    "    return 10 * np.log10(u**2 / (u-u_rec)**2)"
   ]
  },
  {
   "cell_type": "code",
   "execution_count": null,
   "metadata": {
    "collapsed": true
   },
   "outputs": [],
   "source": [
    "# TODO: plot the error and SNR as function of time"
   ]
  },
  {
   "cell_type": "markdown",
   "metadata": {},
   "source": [
    "### Part 3: Compare the $\\delta$-insensitive recovery result with the $\\delta$-sensitive result "
   ]
  },
  {
   "cell_type": "code",
   "execution_count": null,
   "metadata": {},
   "outputs": [],
   "source": [
    "# TODO: implement delta-sensitive case\n",
    "\n",
    "c_sens, u_rec_sens = np.NaN # delta-sensitive recovery coefficients"
   ]
  },
  {
   "cell_type": "code",
   "execution_count": null,
   "metadata": {},
   "outputs": [],
   "source": [
    "# TODO: Compare between sensitive and insensitive, \n",
    "# plot both outputs in same plot with original \n",
    "# (make use of legends and labels, feel free to adjust linewidth)\n",
    "\n",
    "# plot both SNR in the same plot"
   ]
  },
  {
   "cell_type": "markdown",
   "metadata": {},
   "source": [
    "# Problem 2"
   ]
  },
  {
   "cell_type": "markdown",
   "metadata": {},
   "source": [
    "### Part 1. Generate and show the inpulse response of the filter\n",
    "***HINT:*** *For this problem, pay attention to singal time vector, filter time vector and their convolution output lengths.*"
   ]
  },
  {
   "cell_type": "code",
   "execution_count": null,
   "metadata": {},
   "outputs": [],
   "source": [
    "b = 20"
   ]
  },
  {
   "cell_type": "code",
   "execution_count": null,
   "metadata": {},
   "outputs": [],
   "source": [
    "T_1 = 0\n",
    "T_2 = 0.1\n",
    "t_filt = np.arange(T_1, T_2, dt)\n",
    "a = 150\n",
    "h = (\n",
    "    3\n",
    "    * a\n",
    "    * np.exp(-100 * t_filt)\n",
    "    * (\n",
    "        (a * t_filt) ** 3 / np.math.factorial(3)\n",
    "        - (a * t_filt) ** 5 / np.math.factorial(5)\n",
    "    )\n",
    ")  # dendritic filter"
   ]
  },
  {
   "cell_type": "code",
   "execution_count": null,
   "metadata": {},
   "outputs": [],
   "source": [
    "# TODO: plot the inpulse response"
   ]
  },
  {
   "cell_type": "markdown",
   "metadata": {},
   "source": [
    "### Part 2. Encode a randomly generated input stimulus (from Problem 1) using a reduced PIF neuron that is equivalent to the RHH neuron model. "
   ]
  },
  {
   "cell_type": "code",
   "execution_count": null,
   "metadata": {},
   "outputs": [],
   "source": [
    "# TODO: filter signal\n",
    "v = np.NaN"
   ]
  },
  {
   "cell_type": "code",
   "execution_count": null,
   "metadata": {},
   "outputs": [],
   "source": [
    "# TODO: compute iPRC at given bias\n",
    "rhh = HodgkinHuxley3State()\n",
    "\n",
    "# Plot the iPRC"
   ]
  },
  {
   "cell_type": "code",
   "execution_count": null,
   "metadata": {},
   "outputs": [],
   "source": [
    "# TODO: Compute PIF from iPRC\n",
    "pif_spike_time =  np.nan"
   ]
  },
  {
   "cell_type": "markdown",
   "metadata": {},
   "source": [
    "### Part 3. Recover the signal $u(t)$ from the recieved spikes."
   ]
  },
  {
   "cell_type": "markdown",
   "metadata": {},
   "source": [
    "**TODO: A.** Write down the t-transform of the encoding circuit in an inner product form"
   ]
  },
  {
   "cell_type": "markdown",
   "metadata": {},
   "source": [
    "**TODO: B.** Write down $q_k$ and $[G]_{lk}$, as well the important procedures/steps to obtain $u(t)$ given $h$ (in equation form would suffice)"
   ]
  },
  {
   "cell_type": "markdown",
   "metadata": {},
   "source": [
    "### Part 4. Recover the signal $u(t)$ from PIF spike times and show the statistics"
   ]
  },
  {
   "cell_type": "code",
   "execution_count": null,
   "metadata": {},
   "outputs": [],
   "source": [
    "# TODO:implement PIF decoder\n",
    "\n",
    "# def compute_G():\n",
    "# def compute_q():"
   ]
  },
  {
   "cell_type": "code",
   "execution_count": null,
   "metadata": {},
   "outputs": [],
   "source": [
    "# TODO: recover u(t)\n",
    "c_rec, u_rec = np.nan"
   ]
  },
  {
   "cell_type": "code",
   "execution_count": null,
   "metadata": {},
   "outputs": [],
   "source": [
    "# TODO: plot recovery result (in same plot as original), and SNR (as fn of time)\n",
    "# The recovery may be bad at the boundary because all signals are finite, \n",
    "# you can focus on the middle part of the signal for comparison."
   ]
  },
  {
   "cell_type": "markdown",
   "metadata": {},
   "source": [
    "### Miscellaneous (attention)\n",
    "* please remember to include your name in the corresponding field at the start of this notebook, otherwize an automatic 0 grade will be received for any missing member\n",
    "* please submit one copy per team\n",
    "* please clearly present your solutions and answers with proper use of plots, markdown and comments\n",
    "* please start the assignment as soon as possible, submission deadlines are strictly followed and late submissions after we posted the solution (ususlly on the same day as the deadline) will receive automatic 0\n",
    "* please email both TAs at least 48hrs ahead of deadline if you cannot submit an assignment on time (due to exam schedules or  overwhelming deadlines, etc), we are flexible as long as we are informed\n",
    "* please post your questions on Ed Discussions, and attend the office hours (every Thursday evening); **more on Ed**:\n",
    "    * while discussing on Ed, please make good use of the reply and comment features inside threads to avoid cluttering with multiple threads regarding the same question from the same user\n",
    "    * please refrain from asking questions or posting threads that would explicitly share the right answer with everyone\n",
    "    * only post code snipets when you have narrowed down the issue to that particular section and only share ploted results only when you have good reason to suspect their correctness\n",
    "    * once you finish debugging your code by the end of a thread, please avoid languages such as \"is this correct now?\" since we aren't really allowed to explicitly say yes when they are; be confident in your hardwork."
   ]
  }
 ],
 "metadata": {
  "kernelspec": {
   "display_name": "Python 3 (ipykernel)",
   "language": "python",
   "name": "python3"
  },
  "language_info": {
   "codemirror_mode": {
    "name": "ipython",
    "version": 3
   },
   "file_extension": ".py",
   "mimetype": "text/x-python",
   "name": "python",
   "nbconvert_exporter": "python",
   "pygments_lexer": "ipython3",
   "version": "3.8.17"
  }
 },
 "nbformat": 4,
 "nbformat_minor": 4
}
