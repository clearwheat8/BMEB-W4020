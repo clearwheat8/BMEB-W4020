{
 "cells": [
  {
   "cell_type": "markdown",
   "id": "d10bfc01-f853-496e-92d8-9a463e3cf39d",
   "metadata": {},
   "source": [
    "# Installing Packages\n",
    "Can be done inline from jupyter notebook using below syntax"
   ]
  },
  {
   "cell_type": "code",
   "execution_count": 1,
   "id": "89112622-103b-4e82-b25a-a514d36b2074",
   "metadata": {},
   "outputs": [],
   "source": [
    "## remove \"#\" to uncomment\n",
    "## installation only needs to be run once for each environment\n",
    "\n",
    "# !pip install numpy scipy matplotlib -y"
   ]
  },
  {
   "cell_type": "markdown",
   "id": "dcc46986-6877-450b-a28a-6a11c5ed4aad",
   "metadata": {},
   "source": [
    "# Double click here for editing markdown\n"
   ]
  },
  {
   "cell_type": "markdown",
   "id": "b103c6fd-03a0-420a-aefa-6e9af924a8c0",
   "metadata": {
    "jp-MarkdownHeadingCollapsed": true,
    "tags": []
   },
   "source": [
    "# 1. Python Basics\n",
    "Feel free to checkout the link below if you have limited experience with programming in general.\n",
    "- [Learn Python](https://www.learnpython.org/)\n"
   ]
  },
  {
   "cell_type": "markdown",
   "id": "4442d7d3-159c-4dff-918a-5193a35263d7",
   "metadata": {},
   "source": [
    "## Indentation Instead of Brackets and No Need of Semicolon"
   ]
  },
  {
   "cell_type": "code",
   "execution_count": 2,
   "id": "0ce2edc8-601f-4b44-a8ff-777aaaeceef2",
   "metadata": {},
   "outputs": [
    {
     "ename": "IndentationError",
     "evalue": "expected an indented block (4247215132.py, line 2)",
     "output_type": "error",
     "traceback": [
      "\u001b[0;36m  File \u001b[0;32m\"/var/folders/g0/xplln92d4hg0p639jm9vh7wc0000gn/T/ipykernel_8290/4247215132.py\"\u001b[0;36m, line \u001b[0;32m2\u001b[0m\n\u001b[0;31m    print(\"hello world\") # will give an error\u001b[0m\n\u001b[0m    ^\u001b[0m\n\u001b[0;31mIndentationError\u001b[0m\u001b[0;31m:\u001b[0m expected an indented block\n"
     ]
    }
   ],
   "source": [
    "if True:\n",
    "print(\"hello world\") # will give an error  "
   ]
  },
  {
   "cell_type": "code",
   "execution_count": 4,
   "id": "a4bb2de9-8570-42fe-8c29-f78f16b5a0f2",
   "metadata": {},
   "outputs": [
    {
     "name": "stdout",
     "output_type": "stream",
     "text": [
      "hello world\n"
     ]
    }
   ],
   "source": [
    "if True:\n",
    "    print(\"hello world\") #indent instead of bracket"
   ]
  },
  {
   "cell_type": "markdown",
   "id": "696cb35f-8acd-4f72-8749-4d3892549329",
   "metadata": {},
   "source": [
    "## 1.1 Print\n",
    "- print(var1,var2,var3...)\n",
    "- in Jupyter Lab a variable can be printed by placing it at the end of a block"
   ]
  },
  {
   "cell_type": "code",
   "execution_count": 5,
   "id": "6b7b1d5a-9298-4076-91c3-3a82a5ea21d4",
   "metadata": {},
   "outputs": [
    {
     "name": "stdout",
     "output_type": "stream",
     "text": [
      "2 a 24.3 ASD\n"
     ]
    }
   ],
   "source": [
    "a,b,c,d=2,\"a\",24.3,\"ASD\"\n",
    "print(a,b,c,d)"
   ]
  },
  {
   "cell_type": "code",
   "execution_count": 6,
   "id": "53934f0e-8ac2-469b-be3a-66f6ab235038",
   "metadata": {},
   "outputs": [
    {
     "data": {
      "text/plain": [
       "48.6"
      ]
     },
     "execution_count": 6,
     "metadata": {},
     "output_type": "execute_result"
    }
   ],
   "source": [
    "a= a*c\n",
    "a"
   ]
  },
  {
   "cell_type": "markdown",
   "id": "8844fac3-addd-4e3b-acd0-9b4f6b1f27ec",
   "metadata": {},
   "source": [
    "## 1.2 Variables and Types\n",
    "- Python is a dynamically typed language.\n",
    "- Implies that you don’t need to explicitly declare the data type of a variable when initializing it. \n",
    "- Python allows implicit data type conversion\n",
    "- That is, it automatically converts one data type to another without explicit instruction\n"
   ]
  },
  {
   "cell_type": "code",
   "execution_count": 7,
   "id": "f174645a-6a56-4901-be5c-884b14a2cfa8",
   "metadata": {},
   "outputs": [
    {
     "data": {
      "text/plain": [
       "int"
      ]
     },
     "execution_count": 7,
     "metadata": {},
     "output_type": "execute_result"
    }
   ],
   "source": [
    "var1 = 7\n",
    "type(var1)"
   ]
  },
  {
   "cell_type": "code",
   "execution_count": 8,
   "id": "3fe7a13d-d1f5-4c68-afa7-703a4775178c",
   "metadata": {},
   "outputs": [
    {
     "data": {
      "text/plain": [
       "str"
      ]
     },
     "execution_count": 8,
     "metadata": {},
     "output_type": "execute_result"
    }
   ],
   "source": [
    "var2 = \"qw\"\n",
    "type(var2)"
   ]
  },
  {
   "cell_type": "code",
   "execution_count": 9,
   "id": "08bf6225-4729-44dd-a7df-effc635ce145",
   "metadata": {},
   "outputs": [
    {
     "name": "stdout",
     "output_type": "stream",
     "text": [
      "qw * 7 = qwqwqwqwqwqwqw\n"
     ]
    },
    {
     "data": {
      "text/plain": [
       "str"
      ]
     },
     "execution_count": 9,
     "metadata": {},
     "output_type": "execute_result"
    }
   ],
   "source": [
    "var3 = var2 * var1 # repeats str(var2) int(var1) times\n",
    "print(f\"{var2} * {var1} = {var3}\")\n",
    "type(var3)"
   ]
  },
  {
   "cell_type": "markdown",
   "id": "0a65b1aa-cd64-4c84-ae62-d801adbe1b1c",
   "metadata": {},
   "source": [
    "## 1.3 Lists\n",
    "- Similar to arrays in C\n",
    "- Indexing starts from 0\n",
    "- Can hold multiple types of objects in each index.\n",
    "- Nested lists do not need to be of the same size.\n",
    "- More flexible and \"friendly\" to handle than numpy arrays.\n",
    "- Slower and inefficient in numerical operations especially large datasets compared to numpy."
   ]
  },
  {
   "cell_type": "code",
   "execution_count": 10,
   "id": "e648404e-4686-409e-91bf-0bc5f4c998ff",
   "metadata": {},
   "outputs": [
    {
     "data": {
      "text/plain": [
       "[42, 'is the answer']"
      ]
     },
     "execution_count": 10,
     "metadata": {},
     "output_type": "execute_result"
    }
   ],
   "source": [
    "empty_list=[]\n",
    "list_of_many_things=[42,\"is the answer\"]\n",
    "list_of_many_things"
   ]
  },
  {
   "cell_type": "code",
   "execution_count": 11,
   "id": "12ceb3ed-cc48-40bd-9ab7-20d8ec6dd547",
   "metadata": {},
   "outputs": [
    {
     "name": "stdout",
     "output_type": "stream",
     "text": [
      "before:  [0, 0, 0, 0, 0, 0, 0, 0]\n",
      "after:   [0, 10, 20, 30, 40, 50, 60, 70]\n"
     ]
    }
   ],
   "source": [
    "default_list = [0] * 8 # has 8 elements with default value 0\n",
    "print(\"before: \",default_list)\n",
    "for i in range(8):\n",
    "    default_list[i]=i*10\n",
    "print(\"after:  \" ,default_list)"
   ]
  },
  {
   "cell_type": "markdown",
   "id": "183b5a9a-8050-49b1-a298-cc4a0d1d7dd4",
   "metadata": {},
   "source": [
    "### 1.3.1 Indexing"
   ]
  },
  {
   "cell_type": "code",
   "execution_count": 12,
   "id": "a78374f1-452d-4145-947b-d9a0c1f11c72",
   "metadata": {},
   "outputs": [
    {
     "data": {
      "text/plain": [
       "30"
      ]
     },
     "execution_count": 12,
     "metadata": {},
     "output_type": "execute_result"
    }
   ],
   "source": [
    "default_list[3] #only 3rd value"
   ]
  },
  {
   "cell_type": "code",
   "execution_count": 13,
   "id": "b80ff42b-51dd-49c8-b323-322c6f18caab",
   "metadata": {},
   "outputs": [
    {
     "data": {
      "text/plain": [
       "50"
      ]
     },
     "execution_count": 13,
     "metadata": {},
     "output_type": "execute_result"
    }
   ],
   "source": [
    "default_list[-3] # 3rd value counted from the end"
   ]
  },
  {
   "cell_type": "code",
   "execution_count": 14,
   "id": "3036822c-b0ea-46a7-bb60-0bf8201e656e",
   "metadata": {},
   "outputs": [
    {
     "data": {
      "text/plain": [
       "[0, 20, 40, 60]"
      ]
     },
     "execution_count": 14,
     "metadata": {},
     "output_type": "execute_result"
    }
   ],
   "source": [
    "default_list[0:-1:2] # 1st value to last value,skipping every 2nd element"
   ]
  },
  {
   "cell_type": "markdown",
   "id": "76c6b82f-d35a-473a-a07f-7168e377e225",
   "metadata": {},
   "source": [
    "## 1.4 Basic Operators\n",
    "- pay attention to the precedence of the operators\n",
    "- operators can be applied to strings, lists, arrays, and matrices, but the results and behavior may vary depending on the data types and operations involved."
   ]
  },
  {
   "cell_type": "code",
   "execution_count": 15,
   "id": "f80a1884-88a7-4ac3-b35a-d863ac3c7ca8",
   "metadata": {},
   "outputs": [
    {
     "name": "stdout",
     "output_type": "stream",
     "text": [
      "4294967296\n",
      "asis\n",
      "[1, 2, 3, 4]\n"
     ]
    }
   ],
   "source": [
    "print(2**32) # raised to the power\n",
    "print(\"as\"+\"is\") # can add strings using +\n",
    "print([1,2]+[3,4]) #concatenate lists with +"
   ]
  },
  {
   "cell_type": "markdown",
   "id": "76078eaa-2497-40d3-a53a-1b1aec4b6543",
   "metadata": {},
   "source": [
    "## 1.5 Conditions\n",
    "- boolean logic is essential in conditions, which in turn is critical in loops.\n",
    "- you can write if/else conditions in a single line in applicable cases to shorten your code."
   ]
  },
  {
   "cell_type": "code",
   "execution_count": 16,
   "id": "5f5a2d30-0621-429e-8ea1-8b361ca3f70a",
   "metadata": {},
   "outputs": [
    {
     "name": "stdout",
     "output_type": "stream",
     "text": [
      "works\n"
     ]
    }
   ],
   "source": [
    "if True: print(\"works\") # colon : necessary for demarcation\n",
    "elif False: print(\"never works\") # elif is short for else if"
   ]
  },
  {
   "cell_type": "code",
   "execution_count": 17,
   "id": "9378edab",
   "metadata": {},
   "outputs": [
    {
     "name": "stdout",
     "output_type": "stream",
     "text": [
      "works\n"
     ]
    }
   ],
   "source": [
    "if 1==1: print(\"works\") # colon : necessary for demarcation\n",
    "elif 1==2: print(\"never works\") # elif is short for else if"
   ]
  },
  {
   "cell_type": "markdown",
   "id": "8ab77c5b-78a2-4cab-a7ae-329f8688ed9f",
   "metadata": {},
   "source": [
    "## 1.6 Loops\n",
    "- loops are essential in most modeling/simulations tasks, since they are iterative operations performed repeatedly at given time-steps.\n",
    "- pay close attention to your counter's indexing in loops, as well as when and where you initialize local variables."
   ]
  },
  {
   "cell_type": "code",
   "execution_count": 18,
   "id": "107ffead",
   "metadata": {},
   "outputs": [
    {
     "name": "stdout",
     "output_type": "stream",
     "text": [
      "0  :  0\n",
      "1  :  10\n",
      "2  :  20\n",
      "3  :  30\n",
      "4  :  40\n",
      "5  :  50\n",
      "6  :  60\n",
      "7  :  70\n"
     ]
    }
   ],
   "source": [
    "for i in range(len(default_list)):   #goes through a counter corresponding to the length of the list\n",
    "    print(i,\" : \",default_list[i])"
   ]
  },
  {
   "cell_type": "code",
   "execution_count": 19,
   "id": "94a656c2-57d9-418d-b4e4-16005289e622",
   "metadata": {},
   "outputs": [
    {
     "name": "stdout",
     "output_type": "stream",
     "text": [
      "0  :  0\n",
      "1  :  10\n",
      "2  :  20\n",
      "3  :  30\n",
      "4  :  40\n",
      "5  :  50\n",
      "6  :  60\n",
      "7  :  70\n"
     ]
    }
   ],
   "source": [
    "for index,element in enumerate(default_list):   #goes through each element of the iterable default_list\n",
    "    print(index,\" : \",element)"
   ]
  },
  {
   "cell_type": "markdown",
   "id": "efd7a10b-cce2-4f3a-9dd8-2fe53e0e4af3",
   "metadata": {},
   "source": [
    "## 1.7 Functions\n",
    "- functions can be helpful for organizing and compartmentalizing your code;\n",
    "- pay close attention to local and global variables;\n",
    "- for future assignments, we will provide in ipynb handouts,the suggested code structures consisting of helper functions and functions that you need to implement; any custom functions that can help you complete the assignment are allowed and encouraged."
   ]
  },
  {
   "cell_type": "code",
   "execution_count": 20,
   "id": "548619f6-8992-4b75-b9df-6666e9739da2",
   "metadata": {},
   "outputs": [
    {
     "name": "stdout",
     "output_type": "stream",
     "text": [
      "50\n"
     ]
    }
   ],
   "source": [
    "x = 10\n",
    "\n",
    "# Helper function\n",
    "def multiply(a, b):\n",
    "    return a * b\n",
    "\n",
    "# Main function\n",
    "def main():\n",
    "    # Local variable\n",
    "    y = 5\n",
    "    global x\n",
    "    x = multiply(x, y)\n",
    "    print(x)\n",
    "\n",
    "# Call the main function\n",
    "main()"
   ]
  },
  {
   "cell_type": "markdown",
   "id": "e2cac2ed-eb76-4936-9930-a2db14f77a1a",
   "metadata": {},
   "source": [
    "### 1.7.1 Multiple Function Arguments\n",
    "- Python functions can be set up to receive arbitrary/variable number of arguments (*args*);\n",
    "- you can also use *list* objects to enclose a long list of variables as arg; keep in mind that the proper use of global variables (time-step *dt*, for example) can help reduce arg clutter."
   ]
  },
  {
   "cell_type": "code",
   "execution_count": 21,
   "id": "4f28ecfe-f838-4e46-83f9-11bc5be24281",
   "metadata": {},
   "outputs": [
    {
     "data": {
      "text/plain": [
       "3.0"
      ]
     },
     "execution_count": 21,
     "metadata": {},
     "output_type": "execute_result"
    }
   ],
   "source": [
    "def compute_average(*args): #starts with def , *args use all given\n",
    "    return sum(args) / len(args) #optional return statement\n",
    "\n",
    "compute_average(1, 2, 3, 4, 5) # you can add more numbers as well"
   ]
  },
  {
   "cell_type": "markdown",
   "id": "0b592b82-9e74-4c71-86f2-9c419a1fe597",
   "metadata": {},
   "source": [
    "## 1.8 Classes and Objects\n",
    "- In future assignments, classes and objects will be used primarily to create instances of existing neuron models, synapses, and other components from provided libraries and packages. "
   ]
  },
  {
   "cell_type": "code",
   "execution_count": 22,
   "id": "bffd4913-1225-4ec6-a918-e299640b4e4a",
   "metadata": {},
   "outputs": [
    {
     "name": "stdout",
     "output_type": "stream",
     "text": [
      "neuron1 :  1\n",
      "neuron2 :  0\n"
     ]
    }
   ],
   "source": [
    "class Neuron:                     # class defintion\n",
    "    def __init__(self, neur_name):     # function called when object created\n",
    "        self.name = neur_name\n",
    "        self.potential = 0\n",
    "\n",
    "    def activate(self):          #functions that can only be accessed by the object\n",
    "        self.potential = 1\n",
    "\n",
    "    def deactivate(self):\n",
    "        self.potential = 0\n",
    "\n",
    "# Create instances of the Neuron class\n",
    "neuron1 = Neuron('Neuron 1')\n",
    "neuron2 = Neuron('Neuron 2')\n",
    "\n",
    "# Activate the first neuron\n",
    "neuron1.activate()\n",
    "\n",
    "# Check the potential of the neurons\n",
    "print(\"neuron1 : \",neuron1.potential)\n",
    "print(\"neuron2 : \",neuron2.potential)"
   ]
  },
  {
   "cell_type": "markdown",
   "id": "a5cbdaed-da23-4701-9e08-5335ed77661a",
   "metadata": {},
   "source": [
    "## 1.9 Dictionaries\n",
    "- In future assignments, dictionaries will primarily be used for setting and parsing parameters for existing models from libraries and packages. Dictionaries provide a convenient and flexible way to organize and manage various parameters required for configuring these models."
   ]
  },
  {
   "cell_type": "code",
   "execution_count": 23,
   "id": "c31d3cba-7efb-4209-aa55-6b6d647336a6",
   "metadata": {},
   "outputs": [
    {
     "name": "stdout",
     "output_type": "stream",
     "text": [
      "dict_keys(['learning_rate', 'epochs', 'batch_size'])\n",
      "dict_values([0.02, 100, 32])\n"
     ]
    }
   ],
   "source": [
    "model_params = {\n",
    "    'learning_rate': 0.01,\n",
    "    'epochs': 100,\n",
    "    'batch_size': 32,\n",
    "}\n",
    "\n",
    "# Function to update a parameter in the dictionary\n",
    "def update_param(params, key, value):\n",
    "    params[key] = value\n",
    "\n",
    "# Update the learning_rate in the model_params dictionary\n",
    "update_param(model_params, 'learning_rate', 0.02)\n",
    "\n",
    "\n",
    "print(model_params.keys())\n",
    "print(model_params.values())"
   ]
  },
  {
   "cell_type": "markdown",
   "id": "698538bf-4ef2-457a-a0c6-6e369fabd498",
   "metadata": {
    "jp-MarkdownHeadingCollapsed": true,
    "tags": []
   },
   "source": [
    "# 2. Numpy Arrays\n",
    "- [*numpy*](https://numpy.org/doc/stable/user/basics.html) arrays and related functions are commonly used in future assignments; be constantly aware if you are using arrays or lists.\n",
    "- most of the time if you need to perform a trivial array manipulation, there's probably a *np* function that already takes care of that (again, stackoverflow is your best friend)."
   ]
  },
  {
   "cell_type": "code",
   "execution_count": 24,
   "id": "af43a3b5-b216-4516-9653-13c52a2ee91e",
   "metadata": {},
   "outputs": [
    {
     "name": "stdout",
     "output_type": "stream",
     "text": [
      "dimension: 1 2\n",
      "shape:     (5,) (3, 2)\n"
     ]
    }
   ],
   "source": [
    "import numpy as np\n",
    "\n",
    "arr = np.array([1, 2, 3, 4, 5]) #1D array\n",
    "arr2 = np.array([[1, 2], [3, 4], [5, 6]]) # 2D array\n",
    "\n",
    "print(\"dimension:\", arr.ndim, arr2.ndim)\n",
    "print(\"shape:    \",arr.shape, arr2.shape)"
   ]
  },
  {
   "cell_type": "markdown",
   "id": "d4e71683-beb5-4f6b-b011-181c4b2a8b44",
   "metadata": {},
   "source": [
    "## 2.1 Indexing and Slicing\n",
    "- similar to list indexing and slicing seen earlier\n",
    "- advanced indexing allows for using arrays to index arrays"
   ]
  },
  {
   "cell_type": "code",
   "execution_count": 25,
   "id": "6e5cf395-c862-4260-84c5-09c452ad45c8",
   "metadata": {},
   "outputs": [
    {
     "name": "stdout",
     "output_type": "stream",
     "text": [
      "3\n",
      "[2 3 4]\n",
      "[1 3 5]\n"
     ]
    }
   ],
   "source": [
    "arr = np.array([1, 2, 3, 4, 5])\n",
    "\n",
    "# Indexing: Access the element at index 2\n",
    "print(arr[2])\n",
    "\n",
    "# Slicing: Access the elements from index 1 to 3\n",
    "print(arr[1:4])\n",
    "\n",
    "# Slicing: Access the elements from index 0 to 4 with a step of 2\n",
    "print(arr[0:5:2])"
   ]
  },
  {
   "cell_type": "code",
   "execution_count": 26,
   "id": "34555354-c551-4310-b2be-ebf42997ee96",
   "metadata": {},
   "outputs": [
    {
     "name": "stdout",
     "output_type": "stream",
     "text": [
      "[[1 2]\n",
      " [5 6]]\n"
     ]
    }
   ],
   "source": [
    "# Create an array of indices\n",
    "indices = np.array([0, 2])\n",
    "\n",
    "print(arr2[indices])"
   ]
  },
  {
   "cell_type": "markdown",
   "id": "e124b472-ac4a-4aa7-9e53-9f874ef6a26c",
   "metadata": {},
   "source": [
    "## 2.2 Copy vs View\n",
    "Trivial errors occur due to this issue:\n",
    "- when you slice a numpy array, you get a view of the original array, not a copy. This means that if you modify the view, the original array will also be modified.\n",
    "- However, if you use the copy method, you can create a copy of the array that is independent of the original array."
   ]
  },
  {
   "cell_type": "code",
   "execution_count": 27,
   "id": "be424605-59f8-4c45-bc8d-67cb9dd709ca",
   "metadata": {},
   "outputs": [
    {
     "name": "stdout",
     "output_type": "stream",
     "text": [
      "[ 1 10  3  4  5]\n",
      "[10  3  4]\n",
      "[ 2 20  4]\n"
     ]
    }
   ],
   "source": [
    "arr = np.array([1, 2, 3, 4, 5])\n",
    "\n",
    "view = arr[1:4]  # Create a view of the arr array\n",
    "copy = arr[1:4].copy()  # Create a copy of the arr array\n",
    "\n",
    "view[0] = 10  # Modify the view\n",
    "copy[1] = 20  # Modify the copy\n",
    "\n",
    "print(arr)  # Print the original array\n",
    "print(view)  # Print the view\n",
    "print(copy)  # Print the copy"
   ]
  },
  {
   "cell_type": "markdown",
   "id": "7bf9c4ee-af7c-4749-8ed6-5279a976ef4c",
   "metadata": {},
   "source": [
    "## 2.3 Common Operations/Functions "
   ]
  },
  {
   "cell_type": "code",
   "execution_count": 28,
   "id": "226eb1a5-a7c6-43b4-b338-dba694abee16",
   "metadata": {},
   "outputs": [
    {
     "name": "stdout",
     "output_type": "stream",
     "text": [
      "Array of zeros:\n",
      " [0. 0. 0. 0. 0.]\n",
      "Array of ones:\n",
      " [[1. 1.]\n",
      " [1. 1.]]\n",
      "Identity matrix:\n",
      " [[1. 0. 0.]\n",
      " [0. 1. 0.]\n",
      " [0. 0. 1.]]\n",
      "Array with a range of values: [0 1 2 3 4 5 6 7 8 9]\n",
      "Array with evenly spaced values: [0.   0.25 0.5  0.75 1.  ]\n"
     ]
    }
   ],
   "source": [
    "np.set_printoptions(precision=2, suppress=True)\n",
    "\n",
    "arr1 = np.array([1, 2, 3, 4, 5])  # Create a 1D array\n",
    "arr2 = np.array([[1, 2], [3, 4], [5, 6]])  # Create a 2D array\n",
    "\n",
    "print(\"Array of zeros:\\n\", np.zeros(5))  # Create an array of zeros\n",
    "print(\"Array of ones:\\n\", np.ones((2, 2)))  # Create an array of ones\n",
    "print(\"Identity matrix:\\n\", np.eye(3))  # Create an identity matrix\n",
    "print(\"Array with a range of values:\", np.arange(10))  # Create an array with a range of values\n",
    "print(\"Array with evenly spaced values:\", np.linspace(0, 1, 5))  # Create an array with evenly spaced values\n"
   ]
  },
  {
   "cell_type": "code",
   "execution_count": 29,
   "id": "a86c64c0-c6c3-4ad8-ad9c-59bae93e8163",
   "metadata": {},
   "outputs": [
    {
     "name": "stdout",
     "output_type": "stream",
     "text": [
      "Add a scalar to arr1: [11 12 13 14 15]\n",
      "Multiply arr1 by a scalar: [ 2  4  6  8 10]\n",
      "Add arr1 to arr1: [ 2  4  6  8 10]\n",
      "Multiply arr1 by arr1 element-wise: [ 1  4  9 16 25]\n"
     ]
    }
   ],
   "source": [
    "print(\"Add a scalar to arr1:\", arr1 + 10)  # Add a scalar to an array\n",
    "print(\"Multiply arr1 by a scalar:\", arr1 * 2)  # Multiply an array by a scalar\n",
    "print(\"Add arr1 to arr1:\", arr1 + arr1)  # Add two arrays\n",
    "print(\"Multiply arr1 by arr1 element-wise:\", arr1 * arr1)  # Multiply two arrays element-wise\n"
   ]
  },
  {
   "cell_type": "code",
   "execution_count": 30,
   "id": "ecc65365-3ce6-46c7-a86f-124aa846408f",
   "metadata": {},
   "outputs": [
    {
     "name": "stdout",
     "output_type": "stream",
     "text": [
      "Dot product of arr1 and arr1: 55\n",
      "Cross product of arr1 and arr1: [-2  4 -2]\n"
     ]
    }
   ],
   "source": [
    "print(\"Dot product of arr1 and arr1:\", np.dot(arr1, arr1))  # Compute the dot product of two arrays\n",
    "print(\"Cross product of arr1 and arr1:\", np.cross(arr1[:3], arr1[2:]))  # Compute the cross product of two arrays"
   ]
  },
  {
   "cell_type": "code",
   "execution_count": 31,
   "id": "03092de1-68d8-4253-894d-d12fe7f0249f",
   "metadata": {},
   "outputs": [
    {
     "name": "stdout",
     "output_type": "stream",
     "text": [
      "Sum of arr1: 15\n",
      "Mean of arr1: 3.0\n",
      "Standard deviation of arr1: 1.4142135623730951\n"
     ]
    }
   ],
   "source": [
    "print(\"Sum of arr1:\", np.sum(arr1))  # Compute the sum of an array\n",
    "print(\"Mean of arr1:\", np.mean(arr1))  # Compute the mean of an array\n",
    "print(\"Standard deviation of arr1:\", np.std(arr1))  # Compute the standard deviation of an array"
   ]
  },
  {
   "cell_type": "code",
   "execution_count": 32,
   "id": "15bcb316-5532-49cb-a182-4b3c6f4b6d72",
   "metadata": {},
   "outputs": [
    {
     "name": "stdout",
     "output_type": "stream",
     "text": [
      "Reshape of arr1:\n",
      " [[1]\n",
      " [2]\n",
      " [3]\n",
      " [4]\n",
      " [5]]\n",
      "Transpose of arr2:\n",
      " [[1 3 5]\n",
      " [2 4 6]]\n"
     ]
    }
   ],
   "source": [
    "print(\"Reshape of arr1:\\n\", np.reshape(arr1, (5, 1)))  # Reshape an array\n",
    "print(\"Transpose of arr2:\\n\", np.transpose(arr2))  # Transpose an array"
   ]
  },
  {
   "cell_type": "markdown",
   "id": "70a99056-bdcd-4b9b-be90-60a211252d5b",
   "metadata": {
    "jp-MarkdownHeadingCollapsed": true,
    "tags": []
   },
   "source": [
    "# 3. Python Implementations for Common Math Operations and Computational Methods"
   ]
  },
  {
   "cell_type": "markdown",
   "id": "6e2ac266-239c-47b5-9051-fd84bdb1e091",
   "metadata": {},
   "source": [
    "## 3.1 Euler Method\n",
    "\n",
    "The Euler method is a first-order numerical method for solving ordinary differential equations (ODEs) of the form:\n",
    "$$\n",
    " \\frac{dy}{dx} = f(x, y) \n",
    "$$\n",
    "Given an initial value $ y(x_0) = y_0 $, the Euler method estimates $ y$ at $ x_0 + h $ using the formula:\n",
    "\n",
    "$$ y(x_0 + h) \\approx y(x_0) + h f(x_0, y_0) $$\n",
    "\n",
    "Where:\n",
    "- $ h $ is a small step size.\n",
    "- $ f(x_0, y_0) $ is the value of $ f(x, y) $ at $ x_0, y_0 $.\n",
    "\n",
    "The method then repeats this process for $ x_0 + h, x_0 + 2h, \\ldots, $ up to the desired value of $ x $, using the previously estimated $ y $ value as the new initial value.\n"
   ]
  },
  {
   "cell_type": "code",
   "execution_count": 33,
   "id": "a45a163f-baed-460c-8370-071ca160ca1c",
   "metadata": {},
   "outputs": [
    {
     "data": {
      "image/png": "[encoded data removed]",
      "text/plain": [
       "<Figure size 432x288 with 1 Axes>"
      ]
     },
     "metadata": {
      "needs_background": "light"
     },
     "output_type": "display_data"
    }
   ],
   "source": [
    "import matplotlib.pyplot as plt\n",
    "\n",
    "x0 = 0\n",
    "y0 = 1\n",
    "x = 2\n",
    "h = 0.1\n",
    "f = lambda x, y: -2*x + 4\n",
    "exact_solution = lambda x: -x**2 + 4*x + 1\n",
    "\n",
    "# Initialize variables\n",
    "num_steps = int((x - x0) / h)\n",
    "x_values = np.linspace(x0, x, num_steps + 1)\n",
    "y_values = np.zeros(num_steps + 1)\n",
    "y_values[0] = y0\n",
    "\n",
    "# Apply the Euler method\n",
    "for i in range(1, num_steps + 1):\n",
    "    y_values[i] = y_values[i - 1] + h * f(x_values[i - 1], y_values[i - 1])\n",
    "\n",
    "# Plot the result\n",
    "plt.plot(x_values, y_values, label='Euler method')\n",
    "plt.plot(x_values, exact_solution(x_values), label='Exact solution')\n",
    "plt.xlabel('x')\n",
    "plt.ylabel('y')\n",
    "plt.legend()\n",
    "plt.show()"
   ]
  },
  {
   "cell_type": "markdown",
   "id": "83a1ee7b-b1ee-4c88-b9bd-52c396f35e08",
   "metadata": {},
   "source": [
    "## 3.2 Convolution\n",
    "Convolution is a mathematical operation on two functions that expresses how the shape of one is modified by the other. \n",
    "It is defined as a integral of the product of the two functions after one is reflected about the y-axis and shifted:\n",
    "The operation is commutative and typically is a linear transformation.\n",
    "$$(f*g)(t)=\\int_{-\\infty}^{\\infty}f(\\tau)g(t-\\tau)d\\tau=\\int_{-\\infty}^{\\infty}f(t-\\tau)g(\\tau)d\\tau$$\n",
    "Convolution is commonly utilized in signal processing; within the context of this course, we will use convolution opertaions to apply time domain filters to signals. "
   ]
  },
  {
   "cell_type": "code",
   "execution_count": 34,
   "id": "ce71aa4d-ac37-41c8-be5b-34ab2deef49f",
   "metadata": {},
   "outputs": [
    {
     "data": {
      "image/png": "[encoded data removed]",
      "text/plain": [
       "<Figure size 432x288 with 1 Axes>"
      ]
     },
     "metadata": {
      "needs_background": "light"
     },
     "output_type": "display_data"
    }
   ],
   "source": [
    "import numpy as np\n",
    "import matplotlib.pyplot as plt\n",
    "\n",
    "# Define the signals\n",
    "x = np.linspace(0, 10, 100)\n",
    "signal1 = np.sin(5*x)\n",
    "signal2 = np.heaviside(x - 5,1)\n",
    "\n",
    "# Compute the convolution\n",
    "convolution = np.convolve(signal1, signal2, mode='same')\n",
    "\n",
    "# Plot the signals and their convolution\n",
    "plt.plot(x, signal1, label='Signal 1')\n",
    "plt.plot(x, signal2, label='Signal 2')\n",
    "plt.plot(x,convolution, label='Convolution')\n",
    "plt.xlabel('x')\n",
    "plt.ylabel('y')\n",
    "plt.legend()\n",
    "plt.show()\n",
    "\n"
   ]
  },
  {
   "cell_type": "markdown",
   "id": "b118992c-a816-4f22-a41e-49724ebbf5a8",
   "metadata": {},
   "source": [
    "## 3.3 Fourier Transform\n",
    "\n",
    "\n",
    "\n",
    "The Fourier Transform is a mathematical tool that allows us to represent a time-domain signal, which is a function of time, into its frequency-domain representation, which is a function of frequency. It is defined as:\n",
    "\n",
    "$$ F(\\omega) = \\int_{-\\infty}^{\\infty} f(t) e^{-j\\omega t} dt $$\n",
    "\n",
    "Where:\n",
    "- $ F(\\omega) $ is the Fourier Transform of $ f(t) $,\n",
    "- $ f(t) $ is the time-domain signal,\n",
    "- $ \\omega $ is the angular frequency in radians per second,\n",
    "- $ j $ is the imaginary unit.\n",
    "\n",
    "The Inverse Fourier Transform is the reverse operation of the Fourier Transform. It allows us to transform a frequency-domain signal back into the time domain. It is defined as:\n",
    "\n",
    "$$ f(t) = \\frac{1}{2\\pi} \\int_{-\\infty}^{\\infty} F(\\omega) e^{j\\omega t} d\\omega $$\n",
    "\n",
    "Where:\n",
    "- $ f(t) $ is the time-domain signal,\n",
    "- $ F(\\omega) $ is the frequency-domain signal.\n",
    "\n",
    "Together, the Fourier Transform and its inverse form a pair of operations that can be used to transform a signal from the time domain to the frequency domain and back again."
   ]
  },
  {
   "cell_type": "code",
   "execution_count": 35,
   "id": "c3ad6c04-99be-4721-aff4-9a3d7d994eed",
   "metadata": {},
   "outputs": [
    {
     "data": {
      "image/png": "[encoded data removed]",
      "text/plain": [
       "<Figure size 864x432 with 2 Axes>"
      ]
     },
     "metadata": {
      "needs_background": "light"
     },
     "output_type": "display_data"
    }
   ],
   "source": [
    "import numpy as np\n",
    "import matplotlib.pyplot as plt\n",
    "\n",
    "#signal has two frquecies 1Hz and 2Hz\n",
    "x = np.linspace(0, 10, 1000)\n",
    "signal = np.sin(2 * np.pi * 1 * x) + 0.5 * np.sin(2 * np.pi * 3 * x)\n",
    "\n",
    "# Compute the Fourier transform\n",
    "fourier_transform = np.fft.fft(signal)\n",
    "frequencies = np.fft.fftfreq(len(x), x[1] - x[0])\n",
    "\n",
    "# Plot the signal and its Fourier transform\n",
    "plt.figure(figsize=(12, 6))\n",
    "\n",
    "plt.subplot(2, 1, 1)\n",
    "plt.plot(x, signal)\n",
    "plt.xlabel('x')\n",
    "plt.ylabel('y')\n",
    "plt.title('Signal')\n",
    "\n",
    "plt.subplot(2, 1, 2)\n",
    "plt.plot(frequencies, np.abs(fourier_transform))\n",
    "plt.xlabel('Frequency (Hz)')\n",
    "plt.ylabel('Amplitude')\n",
    "plt.title('Fourier Transform')\n",
    "\n",
    "# Annotate the frequencies\n",
    "plt.annotate('1 Hz', xy=(1, np.abs(fourier_transform)[np.abs(frequencies - 1).argmin()]), xytext=(2, 400),\n",
    "             arrowprops=dict(arrowstyle='->'))\n",
    "plt.annotate('3 Hz', xy=(3, np.abs(fourier_transform)[np.abs(frequencies - 3).argmin()]), xytext=(4, 200),\n",
    "             arrowprops=dict(arrowstyle='->'))\n",
    "\n",
    "plt.tight_layout()\n",
    "plt.show()\n",
    "\n"
   ]
  },
  {
   "cell_type": "code",
   "execution_count": 36,
   "id": "84835ea2-96f4-46ea-a9ea-771ae1a0bfc2",
   "metadata": {},
   "outputs": [
    {
     "data": {
      "image/png": "[encoded data removed]",
      "text/plain": [
       "<Figure size 864x432 with 1 Axes>"
      ]
     },
     "metadata": {
      "needs_background": "light"
     },
     "output_type": "display_data"
    }
   ],
   "source": [
    "\n",
    "# Compute the inverse Fourier transform\n",
    "inverse_fourier_transform = np.fft.ifft(fourier_transform)\n",
    "plt.figure(figsize=(12, 6))\n",
    "\n",
    "plt.subplot(2, 1 ,2)\n",
    "plt.plot(x, inverse_fourier_transform.real)\n",
    "plt.xlabel('x')\n",
    "plt.ylabel('y')\n",
    "plt.title('Inverse Fourier Transform')\n",
    "\n",
    "plt.tight_layout()\n",
    "plt.show()\n"
   ]
  },
  {
   "cell_type": "markdown",
   "id": "ddf8eeaf-4f54-47ca-b433-517f22b14867",
   "metadata": {},
   "source": [
    "## 3.4 Matrix Inversion\n",
    "\n",
    "Matrix Inversion is the process of finding a matrix, called the inverse, that when multiplied by the original matrix results in the identity matrix. For a square matrix $ A $, its inverse $ A^{-1} $ is defined such that:\n",
    "\n",
    "$$ AA^{-1} = A^{-1}A = I $$\n",
    "\n",
    "Where:\n",
    "- $ A $ is a square matrix,\n",
    "- $ A^{-1} $ is the inverse of $ A $,\n",
    "- $ I $ is the identity matrix.\n",
    "\n",
    "Note that not all square matrices have an inverse. A matrix has an inverse if and only if its determinant is non-zero.\n",
    "\n",
    "Pseudo Matrix Inversion is used for matrices that do not have an inverse, which includes non-square matrices. The most common method for pseudo inversion is the Moore-Penrose inverse, which is defined as:\n",
    "\n",
    "$$ A^+ = (A^TA)^{-1}A^T $$\n",
    "\n",
    "Where:\n",
    "- $ A $ is a matrix,\n",
    "- $ A^+ $ is the Moore-Penrose inverse of $ A $,\n",
    "- $ A^T $ is the transpose of $ A $.\n",
    "\n",
    "The Moore-Penrose inverse has the property that $ AA^+A = A $ and $ A^+AA^+ = A^+ $.\n",
    "\n",
    "Matrix inversion and pseudo inversion are fundamental operations in linear algebra and are used in various applications, such as solving systems of linear equations, linear regression, and principal component analysis."
   ]
  },
  {
   "cell_type": "code",
   "execution_count": 37,
   "id": "1669c05b-1ab4-448e-9bc4-1f6dbd24a85a",
   "metadata": {},
   "outputs": [
    {
     "name": "stdout",
     "output_type": "stream",
     "text": [
      "A:\n",
      "[[1 2]\n",
      " [3 4]]\n",
      "Inverse of A:\n",
      "[[-2.   1. ]\n",
      " [ 1.5 -0.5]]\n",
      "B:\n",
      "[[1 2]\n",
      " [3 4]\n",
      " [5 6]]\n",
      "Pseudo Inverse of B:\n",
      "[[-1.33 -0.33  0.67]\n",
      " [ 1.08  0.33 -0.42]]\n"
     ]
    }
   ],
   "source": [
    "import numpy as np\n",
    "\n",
    "# Define a square matrix\n",
    "A = np.array([[1, 2], [3, 4]])\n",
    "\n",
    "# Compute the inverse of A\n",
    "A_inv = np.linalg.inv(A)\n",
    "\n",
    "# Define a non-square matrix\n",
    "B = np.array([[1, 2], [3, 4], [5, 6]])\n",
    "\n",
    "# Compute the pseudo inverse of B\n",
    "B_pinv = np.linalg.pinv(B)\n",
    "\n",
    "print(\"A:\")\n",
    "print(A)\n",
    "print(\"Inverse of A:\")\n",
    "print(A_inv)\n",
    "print(\"B:\")\n",
    "print(B)\n",
    "print(\"Pseudo Inverse of B:\")\n",
    "print(B_pinv)\n"
   ]
  },
  {
   "cell_type": "markdown",
   "id": "1a9abfcc-8a69-4cd3-91ff-d9459b9beaaa",
   "metadata": {
    "tags": []
   },
   "source": [
    "# 4. Matplotlib\n",
    "[*matplotlib*](https://matplotlib.org/stable/tutorials/index.html) is a comprehensive Python library for creating static, animated, and interactive visualizations. It provides an object-oriented API and a MATLAB-like interface for creating a variety of charts and graphs, such as line plots, scatter plots, bar charts, histograms, pie charts, box plots, and 3D plots. It is widely used for data visualization and can be embedded into applications using general-purpose GUI toolkits."
   ]
  },
  {
   "cell_type": "code",
   "execution_count": 38,
   "id": "a6d85f10-4121-4483-b711-5744e8766c35",
   "metadata": {},
   "outputs": [
    {
     "data": {
      "image/png": "[encoded data removed]",
      "text/plain": [
       "<Figure size 432x288 with 1 Axes>"
      ]
     },
     "metadata": {
      "needs_background": "light"
     },
     "output_type": "display_data"
    }
   ],
   "source": [
    "import matplotlib.pyplot as plt\n",
    "\n",
    "x = [1, 2, 3, 4, 5]\n",
    "y = [2, 4, 6, 8, 10]\n",
    "\n",
    "plt.plot(x, y)\n",
    "plt.xlabel('X')\n",
    "plt.ylabel('Y')\n",
    "plt.title('Line Graph')\n",
    "plt.show()\n"
   ]
  },
  {
   "cell_type": "code",
   "execution_count": 39,
   "id": "c0a029b7-7950-4cac-b886-640ae92869ef",
   "metadata": {},
   "outputs": [
    {
     "data": {
      "image/png": "[encoded data removed]",
      "text/plain": [
       "<Figure size 432x288 with 1 Axes>"
      ]
     },
     "metadata": {
      "needs_background": "light"
     },
     "output_type": "display_data"
    }
   ],
   "source": [
    "x = [1, 2, 3, 4, 5]\n",
    "y1 = [2, 4, 6, 8, 10]\n",
    "y2 = [1, 3, 5, 7, 9]\n",
    "\n",
    "plt.plot(x, y1, label='y=2x')\n",
    "plt.plot(x, y2, label='y=2x-1')\n",
    "plt.xlabel('X')\n",
    "plt.ylabel('Y')\n",
    "plt.title('Multiple Graphs')\n",
    "plt.legend()\n",
    "plt.show()"
   ]
  },
  {
   "cell_type": "code",
   "execution_count": 40,
   "id": "1fc81922-9716-45ec-9aa1-e27c21e7f42e",
   "metadata": {},
   "outputs": [
    {
     "data": {
      "image/png": "[encoded data removed]",
      "text/plain": [
       "<Figure size 432x288 with 1 Axes>"
      ]
     },
     "metadata": {
      "needs_background": "light"
     },
     "output_type": "display_data"
    }
   ],
   "source": [
    "x = np.linspace(0, 10, 10)\n",
    "y = np.sin(x)\n",
    "yerr = 0.2\n",
    "\n",
    "plt.errorbar(x, y, yerr=yerr, fmt='o', capsize=5)\n",
    "plt.xlabel('X')\n",
    "plt.ylabel('Y')\n",
    "plt.title('Error Bars')\n",
    "plt.show()"
   ]
  },
  {
   "cell_type": "code",
   "execution_count": 41,
   "id": "61b0af15-076b-46e9-bd89-a9c999b9aae4",
   "metadata": {},
   "outputs": [
    {
     "data": {
      "image/png": "[encoded data removed]",
      "text/plain": [
       "<Figure size 720x360 with 2 Axes>"
      ]
     },
     "metadata": {
      "needs_background": "light"
     },
     "output_type": "display_data"
    }
   ],
   "source": [
    "x = np.linspace(0, 10, 100)\n",
    "\n",
    "plt.figure(figsize=(10, 5))\n",
    "\n",
    "plt.subplot(1, 2, 1) # (row,col,idx)\n",
    "plt.plot(x, np.sin(x))\n",
    "plt.title('Sine Wave')\n",
    "\n",
    "plt.subplot(1, 2, 2)\n",
    "plt.plot(x, np.cos(x))\n",
    "plt.title('Cosine Wave')\n",
    "\n",
    "plt.tight_layout()\n",
    "plt.show()\n"
   ]
  },
  {
   "cell_type": "markdown",
   "id": "b54e672b-5c15-49bf-bef8-b40fc19a3bd4",
   "metadata": {},
   "source": [
    "# TODO\n",
    "# Introductory Coding Questions  "
   ]
  },
  {
   "cell_type": "markdown",
   "id": "9a4e1e1a-88e9-495b-a230-d322ec7a043c",
   "metadata": {},
   "source": [
    "1. Consider the linear matrix equation ${\\bf A} {\\bf x} = {\\bf b}$. Instantiate $\\bf b, \\bf x$ as *numpy* vectors and $\\bf A$ as a *numpy* matrix. Compute the pseudoinverse of $\\bf A$. Multiply $\\bf A^+$ with $\\bf b$ to get $\\bf x$.\n",
    "2. Find the area under $y = x^2$ over $[-2,2]$, then numerically approximate this area using Python code. Compute the error between the analytical and computational answer, ensure that the error is less than $1e^{-5}$. \n",
    "3. Use \\textit{numpy.gradient} to numerically approximate the derivative of $y=\\sin(2\\pi t)$ at $t=0.5$ and compare against the analytical answer. \n",
    "4. Create a $5 \\times 5$ array populated with i.i.d Gaussian random variables using \\textit{numpy}. \n",
    "5. Create a function that takes an array as input, and returns the largest entry in the array along with its index. \n"
   ]
  },
  {
   "cell_type": "code",
   "execution_count": null,
   "id": "df7e537e-9f39-4982-8699-9c5128c3f7b4",
   "metadata": {},
   "outputs": [],
   "source": []
  }
 ],
 "metadata": {
  "kernelspec": {
   "display_name": "Python 3 (ipykernel)",
   "language": "python",
   "name": "python3"
  },
  "language_info": {
   "codemirror_mode": {
    "name": "ipython",
    "version": 3
   },
   "file_extension": ".py",
   "mimetype": "text/x-python",
   "name": "python",
   "nbconvert_exporter": "python",
   "pygments_lexer": "ipython3",
   "version": "3.9.7"
  }
 },
 "nbformat": 4,
 "nbformat_minor": 5
}
